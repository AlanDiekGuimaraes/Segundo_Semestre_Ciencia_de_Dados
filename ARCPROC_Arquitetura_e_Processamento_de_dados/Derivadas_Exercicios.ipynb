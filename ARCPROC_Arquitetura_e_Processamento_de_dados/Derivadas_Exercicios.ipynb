{
 "cells": [
  {
   "cell_type": "markdown",
   "metadata": {},
   "source": [
    "# Para as funções abaixo, faça um código para resolver as derivadas.\n",
    "\n",
    "### Exercicios\n",
    "\n",
    "\n",
    "#### a) f(u) = 5u ^ 3 - 2u ^ 2 + 6u + 1\n",
    "\n",
    "#### b) f(x) = 20sen(x) + 2tag(x)\n",
    "\n",
    "#### c) f(x) = e ^ x + 3\n",
    "\n",
    "#### d) f(x) = (x ^ 2 - x - 2) ^ 3\n",
    "\n",
    "#### e) f(x)=e^ x. cos(c)\n",
    "\n",
    "#### f) f(x, y) = sin(5x ^ 2) + 4x * y ^ 3 + y - x ^ 3\n",
    "\n",
    "#### g) g(x, y, z) - e ^ (xy) * sin(z) - x ^ 2 * z ^ 3"
   ]
  },
  {
   "cell_type": "code",
   "execution_count": 11,
   "metadata": {},
   "outputs": [
    {
     "name": "stdout",
     "output_type": "stream",
     "text": [
      "15*u**2 - 4*u + 6\n"
     ]
    }
   ],
   "source": [
    "# A\n",
    "from sympy import symbols, diff, sin, tan\n",
    "u = symbols('u')\n",
    "\n",
    "f = 5*u**3 - 2*u**2 + 6*u + 1\n",
    "f_l = diff(f, u)\n",
    "print(f_l)"
   ]
  },
  {
   "cell_type": "code",
   "execution_count": 12,
   "metadata": {},
   "outputs": [
    {
     "name": "stdout",
     "output_type": "stream",
     "text": [
      "20*cos(x) + 2*tan(x)**2 + 2\n"
     ]
    }
   ],
   "source": [
    "# B\n",
    "x = symbols('x')\n",
    "f = 20*sin(x) + 2*tan(x)\n",
    "\n",
    "f_l = diff(f, x)\n",
    "print(f_l)"
   ]
  },
  {
   "cell_type": "code",
   "execution_count": null,
   "metadata": {},
   "outputs": [],
   "source": [
    "# C\n"
   ]
  }
 ],
 "metadata": {
  "kernelspec": {
   "display_name": "Python 3",
   "language": "python",
   "name": "python3"
  },
  "language_info": {
   "codemirror_mode": {
    "name": "ipython",
    "version": 3
   },
   "file_extension": ".py",
   "mimetype": "text/x-python",
   "name": "python",
   "nbconvert_exporter": "python",
   "pygments_lexer": "ipython3",
   "version": "3.12.1"
  }
 },
 "nbformat": 4,
 "nbformat_minor": 2
}
