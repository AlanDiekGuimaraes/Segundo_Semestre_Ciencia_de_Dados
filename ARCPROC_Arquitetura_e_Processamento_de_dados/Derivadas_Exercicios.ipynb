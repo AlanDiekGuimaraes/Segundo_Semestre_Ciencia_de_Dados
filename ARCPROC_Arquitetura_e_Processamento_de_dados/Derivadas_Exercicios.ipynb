{
 "cells": [
  {
   "cell_type": "markdown",
   "metadata": {},
   "source": [
    "# Para as funções abaixo, faça um código para resolver as derivadas.\n",
    "\n",
    "### Exercicios\n",
    "\n",
    "\n",
    "#### e) f(x)=e^ x. cos(c)\n",
    "\n",
    "#### f) f(x, y) = sin(5x ^ 2) + 4x * y ^ 3 + y - x ^ 3\n",
    "\n",
    "#### g) g(x, y, z) - e ^ (xy) * sin(z) - x ^ 2 * z ^ 3"
   ]
  },
  {
   "cell_type": "markdown",
   "metadata": {},
   "source": [
    "#### a) f(u) = 5u ^ 3 - 2u ^ 2 + 6u + 1"
   ]
  },
  {
   "cell_type": "code",
   "execution_count": 13,
   "metadata": {},
   "outputs": [
    {
     "name": "stdout",
     "output_type": "stream",
     "text": [
      "15*u**2 - 4*u + 6\n"
     ]
    }
   ],
   "source": [
    "# A\n",
    "from sympy import symbols, diff, sin, tan\n",
    "from sympy.physics.units.quantities import Quantity\n",
    "u = symbols('u')\n",
    "\n",
    "f = 5*u**3 - 2*u**2 + 6*u + 1\n",
    "f_l = diff(f, u)\n",
    "print(f_l)"
   ]
  },
  {
   "cell_type": "markdown",
   "metadata": {},
   "source": [
    "#### b) f(x) = 20sen(x) + 2tag(x)"
   ]
  },
  {
   "cell_type": "code",
   "execution_count": 14,
   "metadata": {},
   "outputs": [
    {
     "name": "stdout",
     "output_type": "stream",
     "text": [
      "20*cos(x) + 2*tan(x)**2 + 2\n"
     ]
    }
   ],
   "source": [
    "# B\n",
    "x = symbols('x')\n",
    "f = 20*sin(x) + 2*tan(x)\n",
    "\n",
    "f_l = diff(f, x)\n",
    "print(f_l)"
   ]
  },
  {
   "cell_type": "markdown",
   "metadata": {},
   "source": [
    "#### c) f(x) = e ^ x + 3"
   ]
  },
  {
   "cell_type": "code",
   "execution_count": 16,
   "metadata": {},
   "outputs": [
    {
     "name": "stdout",
     "output_type": "stream",
     "text": [
      "e**x*log(e)\n"
     ]
    }
   ],
   "source": [
    "# C\n",
    "x = symbols('x')\n",
    "e = Quantity('e')\n",
    "\n",
    "f = e**x+3\n",
    "\n",
    "f_l = diff(f, x)\n",
    "print(f_l)\n"
   ]
  },
  {
   "cell_type": "markdown",
   "metadata": {},
   "source": [
    "#### d) f(x) = (x ^ 2 - x - 2) ^ 3"
   ]
  },
  {
   "cell_type": "code",
   "execution_count": null,
   "metadata": {},
   "outputs": [],
   "source": [
    "# D\n"
   ]
  }
 ],
 "metadata": {
  "kernelspec": {
   "display_name": "Python 3",
   "language": "python",
   "name": "python3"
  },
  "language_info": {
   "codemirror_mode": {
    "name": "ipython",
    "version": 3
   },
   "file_extension": ".py",
   "mimetype": "text/x-python",
   "name": "python",
   "nbconvert_exporter": "python",
   "pygments_lexer": "ipython3",
   "version": "3.12.1"
  }
 },
 "nbformat": 4,
 "nbformat_minor": 2
}
