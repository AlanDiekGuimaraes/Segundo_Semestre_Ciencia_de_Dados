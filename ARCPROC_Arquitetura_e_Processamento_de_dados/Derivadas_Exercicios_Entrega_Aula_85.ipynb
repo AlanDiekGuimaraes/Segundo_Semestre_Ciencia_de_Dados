{
 "cells": [
  {
   "cell_type": "markdown",
   "metadata": {},
   "source": [
    "\n",
    "# Para as funções abaixo, faça um código para resolver as derivadas.\n",
    "\n",
    "**Instalar sympy com o comando pip install sympy**\n",
    "### Exercicios\n"
   ]
  },
  {
   "cell_type": "markdown",
   "metadata": {},
   "source": [
    "#### a) f(u) = 5u ^ 3 - 2u ^ 2 + 6u + 1"
   ]
  },
  {
   "cell_type": "code",
   "execution_count": 8,
   "metadata": {},
   "outputs": [
    {
     "name": "stdout",
     "output_type": "stream",
     "text": [
      "A função de U é: 15*u**2 - 4*u + 6\n"
     ]
    }
   ],
   "source": [
    "# A\n",
    "from sympy import symbols, diff, sin, tan, cos\n",
    "from sympy.physics.units.quantities import Quantity\n",
    "u = symbols('u')\n",
    "\n",
    "f = 5*u**3 - 2*u**2 + 6*u + 1\n",
    "f_l = diff(f, u)\n",
    "print(f\"A função de U é: {f_l}\")"
   ]
  },
  {
   "cell_type": "markdown",
   "metadata": {},
   "source": [
    "#### b) f(x) = 20sen(x) + 2tag(x)"
   ]
  },
  {
   "cell_type": "code",
   "execution_count": 5,
   "metadata": {},
   "outputs": [
    {
     "name": "stdout",
     "output_type": "stream",
     "text": [
      "A função de X é: 20*cos(x) + 2*tan(x)**2 + 2\n"
     ]
    }
   ],
   "source": [
    "# B\n",
    "x = symbols('x')\n",
    "f = 20*sin(x) + 2*tan(x)\n",
    "\n",
    "f_l = diff(f, x)\n",
    "print(f\"A função de X é: {f_l}\")"
   ]
  },
  {
   "cell_type": "markdown",
   "metadata": {},
   "source": [
    "#### c) f(x) = e ^ x + 3"
   ]
  },
  {
   "cell_type": "code",
   "execution_count": 6,
   "metadata": {},
   "outputs": [
    {
     "name": "stdout",
     "output_type": "stream",
     "text": [
      "A função de X é: e**x*log(e)\n"
     ]
    }
   ],
   "source": [
    "# C\n",
    "x = symbols('x')\n",
    "e = Quantity('e')\n",
    "\n",
    "f = e**x+3\n",
    "\n",
    "f_l = diff(f, x)\n",
    "print(f\"A função de X é: {f_l}\")\n"
   ]
  },
  {
   "cell_type": "markdown",
   "metadata": {},
   "source": [
    "#### d) f(x) = (x ^ 2 - x - 2) ^ 3"
   ]
  },
  {
   "cell_type": "code",
   "execution_count": 7,
   "metadata": {},
   "outputs": [
    {
     "name": "stdout",
     "output_type": "stream",
     "text": [
      "A função de X é: (6*x - 3)*(x**2 - x - 2)**2\n"
     ]
    }
   ],
   "source": [
    "# D\n",
    "x = symbols('x')\n",
    "\n",
    "f = (x**2-x-2)**3\n",
    "\n",
    "f_l = diff(f, x)\n",
    "print(f\"A função de X é: {f_l}\")"
   ]
  },
  {
   "cell_type": "markdown",
   "metadata": {},
   "source": [
    "#### e) f(x)=e^ x. cos(x)"
   ]
  },
  {
   "cell_type": "code",
   "execution_count": 9,
   "metadata": {},
   "outputs": [
    {
     "name": "stdout",
     "output_type": "stream",
     "text": [
      "A função de X é: e**(x*cos(x))*(-x*sin(x) + cos(x))*log(e)\n"
     ]
    }
   ],
   "source": [
    "# E\n",
    "x = symbols('x')\n",
    "e = Quantity('e')\n",
    "\n",
    "f = e**(x * cos(x))\n",
    "f_l = diff(f, x)\n",
    "print(f\"A função de X é: {f_l}\")\n"
   ]
  },
  {
   "cell_type": "markdown",
   "metadata": {},
   "source": [
    "#### f) f(x, y) = sin(5x ^ 2) + 4x * y ^ 3 + y - x ^ 3\n"
   ]
  },
  {
   "cell_type": "code",
   "execution_count": 11,
   "metadata": {},
   "outputs": [
    {
     "name": "stdout",
     "output_type": "stream",
     "text": [
      "A função de X é: -3*x**2 + 10*x*cos(5*x**2) + 4*y**3\n",
      "A função de Y é: 12*x*y**2 + 1\n"
     ]
    }
   ],
   "source": [
    "x = symbols('x')\n",
    "y = symbols('y')\n",
    "\n",
    "f = sin(5*x**2) + 4*x * y**3 + y - x**3\n",
    "\n",
    "f_l_x = diff(f, x)\n",
    "f_l_y = diff(f, y)\n",
    "print(f'A função de X é: {f_l_x}')\n",
    "print(f'A função de Y é: {f_l_y}') "
   ]
  },
  {
   "cell_type": "markdown",
   "metadata": {},
   "source": [
    "#### g) g(x, y, z) = e ^ (xy) * sin(z) - x ^ 2 * z ^ 3"
   ]
  },
  {
   "cell_type": "code",
   "execution_count": 12,
   "metadata": {},
   "outputs": [
    {
     "name": "stdout",
     "output_type": "stream",
     "text": [
      "A função de X é: e**(x*y)*y*log(e)*sin(z) - 2*x*z**3\n",
      "A função de Y é: e**(x*y)*x*log(e)*sin(z)\n",
      "A função de Z é: e**(x*y)*cos(z) - 3*x**2*z**2\n"
     ]
    }
   ],
   "source": [
    "x = symbols('x')\n",
    "y = symbols('y')\n",
    "z = symbols('z')\n",
    "\n",
    "e = Quantity('e')\n",
    "\n",
    "f = e**(x*y) *sin(z) - x**2 * z**3\n",
    "\n",
    "f_l_x = diff(f, x)\n",
    "f_l_y = diff(f, y)\n",
    "f_l_z = diff(f, z)\n",
    "print(f'A função de X é: {f_l_x}')\n",
    "print(f'A função de Y é: {f_l_y}')\n",
    "print(f'A função de Z é: {f_l_z}')"
   ]
  }
 ],
 "metadata": {
  "kernelspec": {
   "display_name": "Python 3",
   "language": "python",
   "name": "python3"
  },
  "language_info": {
   "codemirror_mode": {
    "name": "ipython",
    "version": 3
   },
   "file_extension": ".py",
   "mimetype": "text/x-python",
   "name": "python",
   "nbconvert_exporter": "python",
   "pygments_lexer": "ipython3",
   "version": "3.12.1"
  }
 },
 "nbformat": 4,
 "nbformat_minor": 2
}
