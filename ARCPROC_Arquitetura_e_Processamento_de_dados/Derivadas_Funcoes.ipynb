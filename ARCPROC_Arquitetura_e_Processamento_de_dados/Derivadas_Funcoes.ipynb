{
 "cells": [
  {
   "cell_type": "markdown",
   "metadata": {},
   "source": [
    "# Derivada Simples"
   ]
  },
  {
   "cell_type": "code",
   "execution_count": 1,
   "metadata": {},
   "outputs": [
    {
     "name": "stdout",
     "output_type": "stream",
     "text": [
      "6*x + 2\n"
     ]
    }
   ],
   "source": [
    "# Instalar sympy com o comando pip install sympy\n",
    "from sympy import symbols, diff\n",
    "\n",
    "x = symbols ('x')\n",
    "f = 3*x**2 + 2*x + 1\n",
    "\n",
    "f_l = diff(f, x)\n",
    "print(f_l)\n"
   ]
  },
  {
   "cell_type": "markdown",
   "metadata": {},
   "source": [
    "# Derivada Trigonométrica"
   ]
  },
  {
   "cell_type": "code",
   "execution_count": 2,
   "metadata": {},
   "outputs": [
    {
     "name": "stdout",
     "output_type": "stream",
     "text": [
      "cos(x)\n"
     ]
    }
   ],
   "source": [
    "from sympy import symbols, sin, diff\n",
    "\n",
    "x = symbols('x')\n",
    "f = sin(x)\n",
    "\n",
    "f_l = diff(f,x)\n",
    "print(f_l)"
   ]
  },
  {
   "cell_type": "markdown",
   "metadata": {},
   "source": [
    "# Derivada Função Composta"
   ]
  },
  {
   "cell_type": "code",
   "execution_count": 3,
   "metadata": {},
   "outputs": [
    {
     "name": "stdout",
     "output_type": "stream",
     "text": [
      "-2*x*sin(a**2 + x**2)\n"
     ]
    }
   ],
   "source": [
    "from sympy import symbols, diff, cos\n",
    "from sympy.physics.units.quantities import Quantity\n",
    "\n",
    "x = symbols('x')\n",
    "a = Quantity('a')\n",
    "\n",
    "f = cos(a**2+x**2)\n",
    "\n",
    "f_l = diff(f,x)\n",
    "print(f_l)"
   ]
  },
  {
   "cell_type": "markdown",
   "metadata": {},
   "source": [
    "# Derivadas Parciais"
   ]
  },
  {
   "cell_type": "code",
   "execution_count": 4,
   "metadata": {},
   "outputs": [
    {
     "name": "stdout",
     "output_type": "stream",
     "text": [
      "2*y + 2\n",
      "2*x + 6*y\n"
     ]
    }
   ],
   "source": [
    "from sympy import symbols, diff\n",
    "\n",
    "x, y = symbols('x, y')\n",
    "f = x*2 + 3*y**2 + 2*x*y\n",
    "\n",
    "f_parcial_x = diff(f, x)\n",
    "f_parcial_y = diff(f, y)\n",
    "\n",
    "print(f_parcial_x)\n",
    "print(f_parcial_y)"
   ]
  }
 ],
 "metadata": {
  "kernelspec": {
   "display_name": "Python 3",
   "language": "python",
   "name": "python3"
  },
  "language_info": {
   "codemirror_mode": {
    "name": "ipython",
    "version": 3
   },
   "file_extension": ".py",
   "mimetype": "text/x-python",
   "name": "python",
   "nbconvert_exporter": "python",
   "pygments_lexer": "ipython3",
   "version": "3.12.1"
  }
 },
 "nbformat": 4,
 "nbformat_minor": 2
}
