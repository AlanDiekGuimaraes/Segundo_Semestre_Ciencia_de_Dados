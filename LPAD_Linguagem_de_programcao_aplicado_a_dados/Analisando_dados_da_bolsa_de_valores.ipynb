{
 "cells": [
  {
   "cell_type": "code",
   "execution_count": 1,
   "metadata": {},
   "outputs": [],
   "source": [
    "import pandas as pd # pip install pandas\n",
    "import matplotlib.pyplot as plt # pip install matplotlib\n",
    "from statsmodels.tsa.seasonal import seasonal_decompose # pip install statsmodels\n",
    "import yfinance as yf # pip install yfinance"
   ]
  },
  {
   "cell_type": "code",
   "execution_count": null,
   "metadata": {},
   "outputs": [],
   "source": [
    "ticker = yf.Ticker('PETR4.SA')\n",
    "# Data AAAA/MM/DD\n",
    "df = ticker.history(interval = '1d', start = '2021-01-01', end = '2024-01-01')\n",
    "df"
   ]
  },
  {
   "cell_type": "code",
   "execution_count": null,
   "metadata": {},
   "outputs": [],
   "source": [
    "df[['Close']].plot()"
   ]
  },
  {
   "cell_type": "code",
   "execution_count": null,
   "metadata": {},
   "outputs": [],
   "source": [
    "# Preço de fechamento e a tendencia. \n",
    "decomposicao = seasonal_decompose(df[['Close']], model= 'additive', period= 30, extrapolate_trend=30)\n",
    "\n",
    "plt.plot(decomposicao.observed)\n",
    "plt.plot(decomposicao.trend)"
   ]
  },
  {
   "cell_type": "code",
   "execution_count": null,
   "metadata": {},
   "outputs": [],
   "source": [
    "# Média móvel de 7, 30 e 90 dias.\n",
    "media_movel_7d = df['Close'].rolling(7).mean()\n",
    "media_movel_30d = df['Close'].rolling(30).mean()\n",
    "media_movel_90d = df['Close'].rolling(90).mean()\n",
    "\n",
    "fix, ax = plt.subplots(figsize=(12,5))\n",
    "plt.plot(media_movel_7d, 'orange')\n",
    "plt.plot(media_movel_30d, 'red')\n",
    "plt.plot(media_movel_90d, 'blue')\n",
    "plt.plot(df['Close'])"
   ]
  },
  {
   "cell_type": "code",
   "execution_count": null,
   "metadata": {},
   "outputs": [],
   "source": [
    "df2 = df.reset_index()\n",
    "df2.head()"
   ]
  },
  {
   "cell_type": "code",
   "execution_count": null,
   "metadata": {},
   "outputs": [],
   "source": [
    "df2['year']=df2['Date'].dt.year\n",
    "df2['month']=df2['Date'].dt.month\n",
    "df2['day']=df2['Date'].dt.day\n",
    "df2.head()"
   ]
  },
  {
   "cell_type": "code",
   "execution_count": null,
   "metadata": {},
   "outputs": [],
   "source": [
    "# Rentabilidade \n",
    "df2['rentabilidade']=(df2['Close']/df2['Close'].shift()*100)-100\n",
    "df2.head()"
   ]
  },
  {
   "cell_type": "code",
   "execution_count": null,
   "metadata": {},
   "outputs": [],
   "source": [
    "# Existe um melhor mês para investir na Bolsa?\n",
    "df2.groupby('month').agg({'rentabilidade':'mean'}).plot(kind='bar', title='Rentabilidade média por mês', figsize=(11,5)).set_ylabel('Variação (%)')\n",
    "plt.show"
   ]
  },
  {
   "cell_type": "code",
   "execution_count": null,
   "metadata": {},
   "outputs": [],
   "source": [
    "# Existe um melhor dia para investir na Bolsa?\n",
    "df2.groupby('day').agg({'rentabilidade':'sum'}).plot(kind='bar', title='Dias do mês com maiores rentabilidades', figsize=(11,5)).set_ylabel('Soma da rentabilidade')\n",
    "plt.show"
   ]
  },
  {
   "cell_type": "code",
   "execution_count": null,
   "metadata": {},
   "outputs": [],
   "source": [
    "# Análise da correlação.\n",
    "tickers =['ITUB4.SA', 'VALE3.SA', 'BBAS3.SA']\n",
    "\n",
    "dfs=[]\n",
    "\n",
    "for t in tickers:\n",
    "    print(f'Carregando ticker {t}...')\n",
    "    ticker = yf.Ticker(t)\n",
    "    aux = ticker.history(interval = '1d', start= '2021-01-01', end= '2024-01-01')\n",
    "    aux.reset_index(inplace=True)\n",
    "    aux['ticker']=t\n",
    "    dfs.append(aux)"
   ]
  },
  {
   "cell_type": "code",
   "execution_count": 12,
   "metadata": {},
   "outputs": [],
   "source": [
    "def features_dfs(df_):\n",
    "    df_['year']=df_['Date'].dt.year\n",
    "    df_['month']=df_['Date'].dt.month\n",
    "    df_['day']=df_['Date'].dt.day\n",
    "    df_['rentabilidade']=(df_['Close']/df_['Close'].shift()*100)-100\n",
    "    "
   ]
  },
  {
   "cell_type": "code",
   "execution_count": 13,
   "metadata": {},
   "outputs": [],
   "source": [
    "for d in dfs:\n",
    "    features_dfs(d)"
   ]
  },
  {
   "cell_type": "code",
   "execution_count": null,
   "metadata": {},
   "outputs": [],
   "source": [
    "# Correlação\n",
    "correlacao = pd.DataFrame()\n",
    "for d in dfs:\n",
    "    correlacao[d['ticker'].loc[0]]=d['rentabilidade']\n",
    "\n",
    "correlacao.head()"
   ]
  },
  {
   "cell_type": "code",
   "execution_count": null,
   "metadata": {},
   "outputs": [],
   "source": [
    "correlacao.corr()"
   ]
  },
  {
   "cell_type": "code",
   "execution_count": null,
   "metadata": {},
   "outputs": [],
   "source": [
    "import seaborn as sns\n",
    "\n",
    "ax, fig = plt.subplots(figsize=(20,7))\n",
    "ax = sns.heatmap(correlacao.corr(), annot=True)"
   ]
  },
  {
   "cell_type": "code",
   "execution_count": 22,
   "metadata": {},
   "outputs": [],
   "source": [
    "import plotly.graph_objs as go\n",
    "def plotCandStick(df, acao='ticker'):\n",
    "    tracel = {\n",
    "        'x': df.index,\n",
    "        'open': df.Open,\n",
    "        'close': df.Close,\n",
    "        'high': df.High,\n",
    "        'low': df.Low,\n",
    "        'type': 'candlestick',\n",
    "        'name': acao,\n",
    "        'showlegend': False\n",
    "    }\n",
    "\n",
    "    data = [tracel]\n",
    "    layout=go.Layout()\n",
    "    fig=go.Figure(data=data, layout=layout)\n",
    "    return fig"
   ]
  },
  {
   "cell_type": "code",
   "execution_count": null,
   "metadata": {},
   "outputs": [],
   "source": [
    "plotCandStick(df2)"
   ]
  }
 ],
 "metadata": {
  "kernelspec": {
   "display_name": "Python 3",
   "language": "python",
   "name": "python3"
  },
  "language_info": {
   "codemirror_mode": {
    "name": "ipython",
    "version": 3
   },
   "file_extension": ".py",
   "mimetype": "text/x-python",
   "name": "python",
   "nbconvert_exporter": "python",
   "pygments_lexer": "ipython3",
   "version": "3.12.1"
  }
 },
 "nbformat": 4,
 "nbformat_minor": 2
}
