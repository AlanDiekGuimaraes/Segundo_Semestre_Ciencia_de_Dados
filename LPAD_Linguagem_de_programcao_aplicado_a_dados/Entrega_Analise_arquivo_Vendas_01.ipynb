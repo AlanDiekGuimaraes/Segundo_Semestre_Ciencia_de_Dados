{
 "cells": [
  {
   "cell_type": "markdown",
   "metadata": {},
   "source": [
    "Uma loja que vende bermudas quer aumentar as suas vendas. Com base nos dados disponibilizados, faça uma análise dos dados e forneça pelo menos uma ação que possibilite o aumento das vendas.\n",
    "\n",
    "Dica1: Analise a quantidade e o tipo de bermuda que cada loja vende."
   ]
  },
  {
   "cell_type": "code",
   "execution_count": null,
   "metadata": {},
   "outputs": [],
   "source": [
    "import pandas as pd\n",
    "vendas = pd.read_excel('Vendas_01.xlsx')\n",
    "print(vendas)"
   ]
  },
  {
   "cell_type": "code",
   "execution_count": null,
   "metadata": {},
   "outputs": [],
   "source": [
    "# Importa novamente a biblioteca Plotly Express para criar gráficos\n",
    "import plotly.express as px\n",
    "\n",
    "# Itera por todas as colunas da tabela para criar e exibir um histograma para cada uma\n",
    "# Cada histograma mostra a distribuição dos valores da coluna, com as categorias diferenciadas por cores\n",
    "for coluna in vendas:\n",
    "    grafico = px.histogram(vendas, x=coluna, color='Quantidade')\n",
    "    \n",
    "    # Exibe o gráfico gerado para cada coluna\n",
    "    grafico.show()"
   ]
  }
 ],
 "metadata": {
  "kernelspec": {
   "display_name": "Python 3",
   "language": "python",
   "name": "python3"
  },
  "language_info": {
   "codemirror_mode": {
    "name": "ipython",
    "version": 3
   },
   "file_extension": ".py",
   "mimetype": "text/x-python",
   "name": "python",
   "nbconvert_exporter": "python",
   "pygments_lexer": "ipython3",
   "version": "3.12.1"
  }
 },
 "nbformat": 4,
 "nbformat_minor": 2
}
