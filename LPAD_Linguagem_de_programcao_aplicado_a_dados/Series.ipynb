{
 "cells": [
  {
   "cell_type": "markdown",
   "metadata": {},
   "source": [
    "SERIES"
   ]
  },
  {
   "cell_type": "code",
   "execution_count": null,
   "metadata": {},
   "outputs": [],
   "source": [
    "import pandas as pd\n",
    "\n",
    "serie = pd.Series(['Carol', 'Jéssica','Caique', 'Arthur'])\n",
    "print(serie)"
   ]
  },
  {
   "cell_type": "code",
   "execution_count": null,
   "metadata": {},
   "outputs": [],
   "source": [
    "serie[1]"
   ]
  },
  {
   "cell_type": "code",
   "execution_count": null,
   "metadata": {},
   "outputs": [],
   "source": [
    "serie[[0,3]]"
   ]
  },
  {
   "cell_type": "code",
   "execution_count": null,
   "metadata": {},
   "outputs": [],
   "source": [
    "serie[[1,3]]"
   ]
  },
  {
   "cell_type": "code",
   "execution_count": null,
   "metadata": {},
   "outputs": [],
   "source": [
    "serie.info()"
   ]
  },
  {
   "cell_type": "code",
   "execution_count": null,
   "metadata": {},
   "outputs": [],
   "source": [
    "serie.describe()"
   ]
  },
  {
   "cell_type": "code",
   "execution_count": null,
   "metadata": {},
   "outputs": [],
   "source": [
    "serie = pd.Series(['Carol', 'Jéssica','Caique', 'Arthur'],\n",
    "                  index=['a', 'b', 'c', 'd'])\n",
    "print(serie)"
   ]
  },
  {
   "cell_type": "code",
   "execution_count": null,
   "metadata": {},
   "outputs": [],
   "source": [
    "serie.array"
   ]
  },
  {
   "cell_type": "code",
   "execution_count": null,
   "metadata": {},
   "outputs": [],
   "source": [
    "serie.index"
   ]
  },
  {
   "cell_type": "code",
   "execution_count": null,
   "metadata": {},
   "outputs": [],
   "source": [
    "# Operações \n",
    "serie=pd.Series([5,10,15,20,25])\n",
    "print('Multiplicar serie por 2')\n",
    "print(serie*2)\n",
    "print('Verificar valores menores que 15 na serie')\n",
    "print(serie[serie<=15])"
   ]
  },
  {
   "cell_type": "code",
   "execution_count": null,
   "metadata": {},
   "outputs": [],
   "source": [
    "# Serie para dicionario\n",
    "dicionario = serie.to_dict()\n",
    "print(dicionario)"
   ]
  },
  {
   "cell_type": "code",
   "execution_count": null,
   "metadata": {},
   "outputs": [],
   "source": [
    "# Exemplo\n",
    "populacao = {\n",
    "    'São Paulo': 11451,\n",
    "    'São Bernardo do campo': 811,\n",
    "    'Santo André': 749,\n",
    "    'São Caetano do Sul': 162 \n",
    "    }\n",
    "\n",
    "serie_pop = pd.Series(populacao)\n",
    "print(serie_pop)"
   ]
  },
  {
   "cell_type": "code",
   "execution_count": null,
   "metadata": {},
   "outputs": [],
   "source": [
    "serie_pop.describe()"
   ]
  },
  {
   "cell_type": "code",
   "execution_count": null,
   "metadata": {},
   "outputs": [],
   "source": [
    "# Analise de dados vazios NaN\n",
    "populacao = {\n",
    "    'São Paulo': 11451,\n",
    "    'São Bernardo do campo': 811,\n",
    "    'Santo André': 749,\n",
    "    'São Caetano do Sul': 162 \n",
    "    }\n",
    "\n",
    "cidades = ['São Paulo', 'Campinas', 'São Bernardo do campo', 'São Caetano do Sul' ]\n",
    "\n",
    "serie_pop = pd.Series(populacao, index=cidades)\n",
    "print(serie_pop)"
   ]
  },
  {
   "cell_type": "code",
   "execution_count": null,
   "metadata": {},
   "outputs": [],
   "source": [
    "pd.isna(serie_pop)"
   ]
  },
  {
   "cell_type": "code",
   "execution_count": null,
   "metadata": {},
   "outputs": [],
   "source": [
    "print('Mínimo')\n",
    "print(serie_pop.min())\n",
    "print('Máximo')\n",
    "print(serie_pop.max())\n",
    "print('Média')\n",
    "print(serie_pop.mean())\n",
    "print('Desvio padrão')\n",
    "print(serie_pop.std())"
   ]
  },
  {
   "cell_type": "code",
   "execution_count": null,
   "metadata": {},
   "outputs": [],
   "source": [
    "# Adicionando a média aos valores vazios NaN\n",
    "serie_pop.fillna(serie_pop.mean())"
   ]
  },
  {
   "cell_type": "code",
   "execution_count": null,
   "metadata": {},
   "outputs": [],
   "source": [
    "# loc - Seleciona usando rótulos\n",
    "serie_pop.loc['São Caetano do Sul']"
   ]
  },
  {
   "cell_type": "code",
   "execution_count": null,
   "metadata": {},
   "outputs": [],
   "source": [
    "# iloc - Seleciona usando índices numéricos\n",
    "serie_pop.iloc[2]"
   ]
  },
  {
   "cell_type": "markdown",
   "metadata": {},
   "source": [
    "Dada a Tabela abaixo da notas dos alunos, responda\n",
    "aos itens abaixo:"
   ]
  },
  {
   "cell_type": "code",
   "execution_count": null,
   "metadata": {},
   "outputs": [],
   "source": [
    "notas_alunos = {\n",
    "            'Joao':4.7,\n",
    "            'Maria':2.1,\n",
    "            'Antônio':7.4,\n",
    "            'José':2,\n",
    "            'Alma':3.5,\n",
    "            'Francisco':3.8,\n",
    "            'Pedro':4.6,\n",
    "            'Carlos':8.2,\n",
    "            'Luís':8.3,\n",
    "            'Paulo':4.6,\n",
    "            'Helena':3.6,\n",
    "            'Mario':4.5,\n",
    "            'Laura':9.1,\n",
    "            'Beatrix':9.2,\n",
    "            'Lucas':4.5\n",
    "                        }\n",
    "               \n",
    "\n",
    "# a) Crie um serie para todos os alunos.\n",
    "notas_alunos_serie = pd.Series(notas_alunos)\n",
    "print(notas_alunos_serie)"
   ]
  },
  {
   "cell_type": "markdown",
   "metadata": {},
   "source": [
    "b) Obtenha a média das notas."
   ]
  },
  {
   "cell_type": "code",
   "execution_count": null,
   "metadata": {},
   "outputs": [],
   "source": [
    "media_alunos = pd.Series.mean(notas_alunos_serie)\n",
    "print(media_alunos)"
   ]
  },
  {
   "cell_type": "markdown",
   "metadata": {},
   "source": [
    "c) Determine quem tirou a maior nota."
   ]
  },
  {
   "cell_type": "code",
   "execution_count": null,
   "metadata": {},
   "outputs": [],
   "source": [
    "maior_nota = pd.Series.idxmax(notas_alunos_serie)\n",
    "print(maior_nota)"
   ]
  },
  {
   "cell_type": "markdown",
   "metadata": {},
   "source": [
    "d) Determine quem tirou a menor nota."
   ]
  },
  {
   "cell_type": "code",
   "execution_count": null,
   "metadata": {},
   "outputs": [],
   "source": [
    "menor_nota = pd.Series.idxmin(notas_alunos_serie)\n",
    "print(menor_nota)"
   ]
  },
  {
   "cell_type": "markdown",
   "metadata": {},
   "source": [
    "e) Qual a porcentagem de alunos que obtiveram notas\n",
    "acima da média?\n"
   ]
  },
  {
   "cell_type": "code",
   "execution_count": null,
   "metadata": {},
   "outputs": [],
   "source": [
    "alunos = notas_alunos_serie.count()\n",
    "acima_media = notas_alunos_serie[notas_alunos_serie>media_alunos].count()\n",
    "print(((acima_media/alunos)*100).round(1))"
   ]
  },
  {
   "cell_type": "markdown",
   "metadata": {},
   "source": [
    "f) Quais alunos farão a prova substitutiva? (Notas abaixo de 5)"
   ]
  },
  {
   "cell_type": "code",
   "execution_count": null,
   "metadata": {},
   "outputs": [],
   "source": [
    "print(notas_alunos_serie[notas_alunos_serie<5])"
   ]
  }
 ],
 "metadata": {
  "kernelspec": {
   "display_name": "Python 3",
   "language": "python",
   "name": "python3"
  },
  "language_info": {
   "codemirror_mode": {
    "name": "ipython",
    "version": 3
   },
   "file_extension": ".py",
   "mimetype": "text/x-python",
   "name": "python",
   "nbconvert_exporter": "python",
   "pygments_lexer": "ipython3",
   "version": "3.12.1"
  }
 },
 "nbformat": 4,
 "nbformat_minor": 2
}
