{
 "cells": [
  {
   "cell_type": "markdown",
   "metadata": {},
   "source": [
    "SERIES"
   ]
  },
  {
   "cell_type": "code",
   "execution_count": 2,
   "metadata": {},
   "outputs": [
    {
     "name": "stdout",
     "output_type": "stream",
     "text": [
      "0      Carol\n",
      "1    Jéssica\n",
      "2     Caique\n",
      "3     Arthur\n",
      "dtype: object\n"
     ]
    }
   ],
   "source": [
    "import pandas as pd\n",
    "\n",
    "serie = pd.Series(['Carol', 'Jéssica','Caique', 'Arthur'])\n",
    "print(serie)"
   ]
  },
  {
   "cell_type": "code",
   "execution_count": 3,
   "metadata": {},
   "outputs": [
    {
     "data": {
      "text/plain": [
       "'Jéssica'"
      ]
     },
     "execution_count": 3,
     "metadata": {},
     "output_type": "execute_result"
    }
   ],
   "source": [
    "serie[1]"
   ]
  },
  {
   "cell_type": "code",
   "execution_count": 4,
   "metadata": {},
   "outputs": [
    {
     "data": {
      "text/plain": [
       "0     Carol\n",
       "3    Arthur\n",
       "dtype: object"
      ]
     },
     "execution_count": 4,
     "metadata": {},
     "output_type": "execute_result"
    }
   ],
   "source": [
    "serie[[0,3]]"
   ]
  },
  {
   "cell_type": "code",
   "execution_count": 5,
   "metadata": {},
   "outputs": [
    {
     "data": {
      "text/plain": [
       "1    Jéssica\n",
       "3     Arthur\n",
       "dtype: object"
      ]
     },
     "execution_count": 5,
     "metadata": {},
     "output_type": "execute_result"
    }
   ],
   "source": [
    "serie[[1,3]]"
   ]
  },
  {
   "cell_type": "code",
   "execution_count": 6,
   "metadata": {},
   "outputs": [
    {
     "name": "stdout",
     "output_type": "stream",
     "text": [
      "<class 'pandas.core.series.Series'>\n",
      "RangeIndex: 4 entries, 0 to 3\n",
      "Series name: None\n",
      "Non-Null Count  Dtype \n",
      "--------------  ----- \n",
      "4 non-null      object\n",
      "dtypes: object(1)\n",
      "memory usage: 164.0+ bytes\n"
     ]
    }
   ],
   "source": [
    "serie.info()"
   ]
  },
  {
   "cell_type": "code",
   "execution_count": 7,
   "metadata": {},
   "outputs": [
    {
     "data": {
      "text/plain": [
       "count         4\n",
       "unique        4\n",
       "top       Carol\n",
       "freq          1\n",
       "dtype: object"
      ]
     },
     "execution_count": 7,
     "metadata": {},
     "output_type": "execute_result"
    }
   ],
   "source": [
    "serie.describe()"
   ]
  },
  {
   "cell_type": "code",
   "execution_count": 8,
   "metadata": {},
   "outputs": [
    {
     "name": "stdout",
     "output_type": "stream",
     "text": [
      "a      Carol\n",
      "b    Jéssica\n",
      "c     Caique\n",
      "d     Arthur\n",
      "dtype: object\n"
     ]
    }
   ],
   "source": [
    "serie = pd.Series(['Carol', 'Jéssica','Caique', 'Arthur'],\n",
    "                  index=['a', 'b', 'c', 'd'])\n",
    "print(serie)"
   ]
  },
  {
   "cell_type": "code",
   "execution_count": 9,
   "metadata": {},
   "outputs": [
    {
     "data": {
      "text/plain": [
       "<NumpyExtensionArray>\n",
       "['Carol', 'Jéssica', 'Caique', 'Arthur']\n",
       "Length: 4, dtype: object"
      ]
     },
     "execution_count": 9,
     "metadata": {},
     "output_type": "execute_result"
    }
   ],
   "source": [
    "serie.array"
   ]
  },
  {
   "cell_type": "code",
   "execution_count": 10,
   "metadata": {},
   "outputs": [
    {
     "data": {
      "text/plain": [
       "Index(['a', 'b', 'c', 'd'], dtype='object')"
      ]
     },
     "execution_count": 10,
     "metadata": {},
     "output_type": "execute_result"
    }
   ],
   "source": [
    "serie.index"
   ]
  },
  {
   "cell_type": "code",
   "execution_count": 11,
   "metadata": {},
   "outputs": [
    {
     "name": "stdout",
     "output_type": "stream",
     "text": [
      "Multiplicar serie por 2\n",
      "0    10\n",
      "1    20\n",
      "2    30\n",
      "3    40\n",
      "4    50\n",
      "dtype: int64\n",
      "Verificar valores menores que 15 na serie\n",
      "0     5\n",
      "1    10\n",
      "2    15\n",
      "dtype: int64\n"
     ]
    }
   ],
   "source": [
    "# Operações \n",
    "serie=pd.Series([5,10,15,20,25])\n",
    "print('Multiplicar serie por 2')\n",
    "print(serie*2)\n",
    "print('Verificar valores menores que 15 na serie')\n",
    "print(serie[serie<=15])"
   ]
  },
  {
   "cell_type": "code",
   "execution_count": 12,
   "metadata": {},
   "outputs": [
    {
     "name": "stdout",
     "output_type": "stream",
     "text": [
      "{0: 5, 1: 10, 2: 15, 3: 20, 4: 25}\n"
     ]
    }
   ],
   "source": [
    "# Serie para dicionario\n",
    "dicionario = serie.to_dict()\n",
    "print(dicionario)"
   ]
  },
  {
   "cell_type": "code",
   "execution_count": 13,
   "metadata": {},
   "outputs": [
    {
     "name": "stdout",
     "output_type": "stream",
     "text": [
      "São Paulo                11451\n",
      "São Bernardo do campo      811\n",
      "Santo André                749\n",
      "São Caetano do Sul         162\n",
      "dtype: int64\n"
     ]
    }
   ],
   "source": [
    "# Exemplo\n",
    "populacao = {\n",
    "    'São Paulo': 11451,\n",
    "    'São Bernardo do campo': 811,\n",
    "    'Santo André': 749,\n",
    "    'São Caetano do Sul': 162 \n",
    "    }\n",
    "\n",
    "serie_pop = pd.Series(populacao)\n",
    "print(serie_pop)"
   ]
  },
  {
   "cell_type": "code",
   "execution_count": 14,
   "metadata": {},
   "outputs": [
    {
     "data": {
      "text/plain": [
       "count        4.000000\n",
       "mean      3293.250000\n",
       "std       5446.356114\n",
       "min        162.000000\n",
       "25%        602.250000\n",
       "50%        780.000000\n",
       "75%       3471.000000\n",
       "max      11451.000000\n",
       "dtype: float64"
      ]
     },
     "execution_count": 14,
     "metadata": {},
     "output_type": "execute_result"
    }
   ],
   "source": [
    "serie_pop.describe()"
   ]
  },
  {
   "cell_type": "code",
   "execution_count": 16,
   "metadata": {},
   "outputs": [
    {
     "name": "stdout",
     "output_type": "stream",
     "text": [
      "São Paulo                11451.0\n",
      "Campinas                     NaN\n",
      "São Bernardo do campo      811.0\n",
      "São Caetano do Sul         162.0\n",
      "dtype: float64\n"
     ]
    }
   ],
   "source": [
    "# Analise de dados vazios NaN\n",
    "populacao = {\n",
    "    'São Paulo': 11451,\n",
    "    'São Bernardo do campo': 811,\n",
    "    'Santo André': 749,\n",
    "    'São Caetano do Sul': 162 \n",
    "    }\n",
    "\n",
    "cidades = ['São Paulo', 'Campinas', 'São Bernardo do campo', 'São Caetano do Sul' ]\n",
    "\n",
    "serie_pop = pd.Series(populacao, index=cidades)\n",
    "print(serie_pop)"
   ]
  },
  {
   "cell_type": "code",
   "execution_count": 17,
   "metadata": {},
   "outputs": [
    {
     "data": {
      "text/plain": [
       "São Paulo                False\n",
       "Campinas                  True\n",
       "São Bernardo do campo    False\n",
       "São Caetano do Sul       False\n",
       "dtype: bool"
      ]
     },
     "execution_count": 17,
     "metadata": {},
     "output_type": "execute_result"
    }
   ],
   "source": [
    "pd.isna(serie_pop)"
   ]
  },
  {
   "cell_type": "code",
   "execution_count": 24,
   "metadata": {},
   "outputs": [
    {
     "name": "stdout",
     "output_type": "stream",
     "text": [
      "Mínimo\n",
      "162.0\n",
      "Máximo\n",
      "11451.0\n",
      "Média\n",
      "4141.333333333333\n",
      "Desvio padrão\n",
      "6338.668656219012\n"
     ]
    }
   ],
   "source": [
    "print('Mínimo')\n",
    "print(serie_pop.min())\n",
    "print('Máximo')\n",
    "print(serie_pop.max())\n",
    "print('Média')\n",
    "print(serie_pop.mean())\n",
    "print('Desvio padrão')\n",
    "print(serie_pop.std())"
   ]
  },
  {
   "cell_type": "code",
   "execution_count": 26,
   "metadata": {},
   "outputs": [
    {
     "data": {
      "text/plain": [
       "São Paulo                11451.000000\n",
       "Campinas                  4141.333333\n",
       "São Bernardo do campo      811.000000\n",
       "São Caetano do Sul         162.000000\n",
       "dtype: float64"
      ]
     },
     "execution_count": 26,
     "metadata": {},
     "output_type": "execute_result"
    }
   ],
   "source": [
    "# Adicionando a média aos valores vazios NaN\n",
    "serie_pop.fillna(serie_pop.mean())"
   ]
  },
  {
   "cell_type": "code",
   "execution_count": 29,
   "metadata": {},
   "outputs": [
    {
     "data": {
      "text/plain": [
       "np.float64(162.0)"
      ]
     },
     "execution_count": 29,
     "metadata": {},
     "output_type": "execute_result"
    }
   ],
   "source": [
    "# loc - Seleciona usando rótulos\n",
    "serie_pop.loc['São Caetano do Sul']"
   ]
  },
  {
   "cell_type": "code",
   "execution_count": 31,
   "metadata": {},
   "outputs": [
    {
     "data": {
      "text/plain": [
       "np.float64(811.0)"
      ]
     },
     "execution_count": 31,
     "metadata": {},
     "output_type": "execute_result"
    }
   ],
   "source": [
    "# iloc - Seleciona usando índices numéricos\n",
    "serie_pop.iloc[2]"
   ]
  },
  {
   "cell_type": "markdown",
   "metadata": {},
   "source": [
    "Dada a Tabela abaixo da notas dos alunos, responda\n",
    "aos itens abaixo:"
   ]
  },
  {
   "cell_type": "code",
   "execution_count": 51,
   "metadata": {},
   "outputs": [
    {
     "name": "stdout",
     "output_type": "stream",
     "text": [
      "Joao         4.7\n",
      "Maria        2.1\n",
      "Antônio      7.4\n",
      "José         2.0\n",
      "Alma         3.5\n",
      "Francisco    3.8\n",
      "Pedro        4.6\n",
      "Carlos       8.2\n",
      "Luís         8.3\n",
      "Paulo        4.6\n",
      "Helena       3.6\n",
      "Mario        4.5\n",
      "Laura        9.1\n",
      "Beatrix      9.2\n",
      "Lucas        4.5\n",
      "dtype: float64\n"
     ]
    }
   ],
   "source": [
    "notas_alunos = {\n",
    "            'Joao':4.7,\n",
    "            'Maria':2.1,\n",
    "            'Antônio':7.4,\n",
    "            'José':2,\n",
    "            'Alma':3.5,\n",
    "            'Francisco':3.8,\n",
    "            'Pedro':4.6,\n",
    "            'Carlos':8.2,\n",
    "            'Luís':8.3,\n",
    "            'Paulo':4.6,\n",
    "            'Helena':3.6,\n",
    "            'Mario':4.5,\n",
    "            'Laura':9.1,\n",
    "            'Beatrix':9.2,\n",
    "            'Lucas':4.5\n",
    "                        }\n",
    "               \n",
    "\n",
    "# a) Crie um serie para todos os alunos.\n",
    "notas_alunos_serie = pd.Series(notas_alunos)\n",
    "print(notas_alunos_serie)"
   ]
  },
  {
   "cell_type": "markdown",
   "metadata": {},
   "source": [
    "b) Obtenha a média das notas."
   ]
  },
  {
   "cell_type": "code",
   "execution_count": 52,
   "metadata": {},
   "outputs": [
    {
     "name": "stdout",
     "output_type": "stream",
     "text": [
      "5.34\n"
     ]
    }
   ],
   "source": [
    "media_alunos = pd.Series.mean(notas_alunos_serie)\n",
    "print(media_alunos)"
   ]
  },
  {
   "cell_type": "markdown",
   "metadata": {},
   "source": [
    "c) Determine quem tirou a maior nota."
   ]
  },
  {
   "cell_type": "code",
   "execution_count": 53,
   "metadata": {},
   "outputs": [
    {
     "name": "stdout",
     "output_type": "stream",
     "text": [
      "Beatrix\n"
     ]
    }
   ],
   "source": [
    "maior_nota = pd.Series.idxmax(notas_alunos_serie)\n",
    "print(maior_nota)"
   ]
  },
  {
   "cell_type": "markdown",
   "metadata": {},
   "source": [
    "d) Determine quem tirou a menor nota."
   ]
  },
  {
   "cell_type": "code",
   "execution_count": 54,
   "metadata": {},
   "outputs": [
    {
     "name": "stdout",
     "output_type": "stream",
     "text": [
      "José\n"
     ]
    }
   ],
   "source": [
    "menor_nota = pd.Series.idxmin(notas_alunos_serie)\n",
    "print(menor_nota)"
   ]
  },
  {
   "cell_type": "markdown",
   "metadata": {},
   "source": [
    "e) Qual a porcentagem de alunos que obtiveram notas\n",
    "acima da média?\n"
   ]
  },
  {
   "cell_type": "code",
   "execution_count": 55,
   "metadata": {},
   "outputs": [
    {
     "name": "stdout",
     "output_type": "stream",
     "text": [
      "33.3\n"
     ]
    }
   ],
   "source": [
    "alunos = notas_alunos_serie.count()\n",
    "acima_media = notas_alunos_serie[notas_alunos_serie>media_alunos].count()\n",
    "print(((acima_media/alunos)*100).round(1))"
   ]
  },
  {
   "cell_type": "markdown",
   "metadata": {},
   "source": [
    "f) Quais alunos farão a prova substitutiva? (Notas abaixo de 5)"
   ]
  },
  {
   "cell_type": "code",
   "execution_count": 56,
   "metadata": {},
   "outputs": [
    {
     "name": "stdout",
     "output_type": "stream",
     "text": [
      "Joao         4.7\n",
      "Maria        2.1\n",
      "José         2.0\n",
      "Alma         3.5\n",
      "Francisco    3.8\n",
      "Pedro        4.6\n",
      "Paulo        4.6\n",
      "Helena       3.6\n",
      "Mario        4.5\n",
      "Lucas        4.5\n",
      "dtype: float64\n"
     ]
    }
   ],
   "source": [
    "print(notas_alunos_serie[notas_alunos_serie<5])"
   ]
  }
 ],
 "metadata": {
  "kernelspec": {
   "display_name": "Python 3",
   "language": "python",
   "name": "python3"
  },
  "language_info": {
   "codemirror_mode": {
    "name": "ipython",
    "version": 3
   },
   "file_extension": ".py",
   "mimetype": "text/x-python",
   "name": "python",
   "nbconvert_exporter": "python",
   "pygments_lexer": "ipython3",
   "version": "3.12.1"
  }
 },
 "nbformat": 4,
 "nbformat_minor": 2
}
