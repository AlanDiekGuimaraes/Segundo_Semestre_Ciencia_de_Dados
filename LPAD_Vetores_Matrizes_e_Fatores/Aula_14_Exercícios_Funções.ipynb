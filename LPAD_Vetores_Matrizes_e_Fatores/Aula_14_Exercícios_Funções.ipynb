{
 "cells": [
  {
   "metadata": {},
   "cell_type": "markdown",
   "source": "# Entrega Aula 14",
   "id": "d93c48a9a0adb8a6"
  },
  {
   "metadata": {},
   "cell_type": "markdown",
   "source": [
    "Dados os conjuntos A = {-10,-5,0,5,10} e B = {-15,-10,-7,-5,-2,3,5,8,10,12,13}.\n",
    "\n",
    "Selecione a alternativa que contém a imagem da função y=-x+3"
   ],
   "id": "e9c44461ec5e0b23"
  },
  {
   "metadata": {
    "ExecuteTime": {
     "end_time": "2024-08-16T00:38:00.457031Z",
     "start_time": "2024-08-16T00:38:00.446840Z"
    }
   },
   "cell_type": "code",
   "source": [
    "# Definindo os conjuntos A e B\n",
    "A = {-10, -5, 0, 5, 10}\n",
    "B = {-15, -10, -7, -5, -2, 3, 5, 8, 10, 12, 13}\n",
    "\n",
    "# Função para calcular a imagem\n",
    "def calcular_imagem(conjunto):\n",
    "    return {-x + 3 for x in conjunto}\n",
    "\n",
    "# Calculando a imagem para A e B\n",
    "imagem_A = calcular_imagem(A)\n",
    "imagem_B = calcular_imagem(B)\n",
    "\n",
    "# Imprimindo os resultados\n",
    "print(f\"Imagem da função para o conjunto A: {sorted(imagem_A)}\")\n",
    "print(f\"Imagem da função para o conjunto B: {sorted(imagem_B)}\")\n",
    "\n"
   ],
   "id": "913268478b953765",
   "outputs": [
    {
     "name": "stdout",
     "output_type": "stream",
     "text": [
      "Imagem da função para o conjunto A: [-7, -2, 3, 8, 13]\n",
      "Imagem da função para o conjunto B: [-10, -9, -7, -5, -2, 0, 5, 8, 10, 13, 18]\n"
     ]
    }
   ],
   "execution_count": 1
  },
  {
   "metadata": {},
   "cell_type": "markdown",
   "source": "Dadas as funções f(x)=2x+3 e g(x)=1-4x, selecione a alternativa que contém a fog(x).",
   "id": "d174747649c5f5fc"
  },
  {
   "cell_type": "code",
   "id": "initial_id",
   "metadata": {
    "collapsed": true,
    "ExecuteTime": {
     "end_time": "2024-08-16T02:17:38.338049Z",
     "start_time": "2024-08-16T02:17:38.332242Z"
    }
   },
   "source": [
    "# Definição das funções f(x) e g(x)\n",
    "def f(x):\n",
    "    return 2 * x + 3\n",
    "\n",
    "def g(x):\n",
    "    return 1 - 4 * x\n",
    "\n",
    "# Composição de funções f(g(x))\n",
    "def fog(x):\n",
    "    return f(g(x))\n",
    "\n",
    "# Testar para x genérico (neste caso, qualquer valor pode ser usado)\n",
    "x = -8  # Pode-se testar com diferentes valores de x\n",
    "\n",
    "# Calcular f(g(x))\n",
    "resultado = fog(x)\n",
    "print(f\"O valor de f(g({x})) é: {resultado}\")\n"
   ],
   "outputs": [
    {
     "name": "stdout",
     "output_type": "stream",
     "text": [
      "O valor de f(g(-8)) é: 69\n"
     ]
    }
   ],
   "execution_count": 3
  },
  {
   "metadata": {},
   "cell_type": "code",
   "outputs": [],
   "execution_count": null,
   "source": "",
   "id": "ac50fe282b96d298"
  }
 ],
 "metadata": {
  "kernelspec": {
   "display_name": "Python 3",
   "language": "python",
   "name": "python3"
  },
  "language_info": {
   "codemirror_mode": {
    "name": "ipython",
    "version": 2
   },
   "file_extension": ".py",
   "mimetype": "text/x-python",
   "name": "python",
   "nbconvert_exporter": "python",
   "pygments_lexer": "ipython2",
   "version": "2.7.6"
  }
 },
 "nbformat": 4,
 "nbformat_minor": 5
}
