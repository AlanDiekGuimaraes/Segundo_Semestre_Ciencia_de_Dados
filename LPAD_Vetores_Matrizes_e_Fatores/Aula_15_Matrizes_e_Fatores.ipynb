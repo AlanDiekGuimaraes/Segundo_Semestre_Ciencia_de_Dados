{
 "cells": [
  {
   "metadata": {},
   "cell_type": "markdown",
   "source": [
    "### Matriz inversa no Python\n",
    "\n",
    "Comando para obter o determinante de uma matriz é numpy.linalg.inv      "
   ],
   "id": "285eb40c9023a7dc"
  },
  {
   "cell_type": "code",
   "id": "initial_id",
   "metadata": {
    "collapsed": true,
    "ExecuteTime": {
     "end_time": "2024-08-16T22:05:45.155018Z",
     "start_time": "2024-08-16T22:05:45.150358Z"
    }
   },
   "source": [
    "import numpy as np\n",
    "A = np.array([[6, 1, 1],\n",
    "             [4, -2, 5],\n",
    "             [2, 8, 7]])\n",
    "invA = np.linalg.inv(A)\n",
    "print(f'''A inversa da matriz A é: \n",
    "{invA}''')"
   ],
   "outputs": [
    {
     "name": "stdout",
     "output_type": "stream",
     "text": [
      "A inversa da matriz A é: \n",
      "[[ 0.17647059 -0.00326797 -0.02287582]\n",
      " [ 0.05882353 -0.13071895  0.08496732]\n",
      " [-0.11764706  0.1503268   0.05228758]]\n"
     ]
    }
   ],
   "execution_count": 7
  },
  {
   "metadata": {},
   "cell_type": "markdown",
   "source": "Crie uma função em python que calcula a fatoração em primos de um número positivo e inteiro.",
   "id": "c677a4c95a10a492"
  },
  {
   "metadata": {
    "ExecuteTime": {
     "end_time": "2024-08-16T22:44:58.261808Z",
     "start_time": "2024-08-16T22:44:58.256078Z"
    }
   },
   "cell_type": "code",
   "source": [
    "def fatores_primos(numero):\n",
    "    fatores = []\n",
    "    divisor = 2\n",
    "\n",
    "    while numero > 1:\n",
    "        while numero % divisor == 0:\n",
    "            fatores.append(divisor)\n",
    "            numero /= divisor\n",
    "        divisor += 1\n",
    "\n",
    "    return fatores\n",
    "fatores_primos(630)\n",
    "    \n",
    "        "
   ],
   "id": "5fe4d682b4becfea",
   "outputs": [
    {
     "data": {
      "text/plain": [
       "[2, 3, 3, 5, 7]"
      ]
     },
     "execution_count": 15,
     "metadata": {},
     "output_type": "execute_result"
    }
   ],
   "execution_count": 15
  },
  {
   "metadata": {
    "ExecuteTime": {
     "end_time": "2024-08-16T23:06:17.717893Z",
     "start_time": "2024-08-16T23:06:15.052500Z"
    }
   },
   "cell_type": "code",
   "source": [
    "def fatora_primo():\n",
    "    numero = int(input('Digite um número positivo e inteiro: '))\n",
    "    print(f'Fatorando o número: {numero}')\n",
    "    fator = 2 # primeiro primo\n",
    "    while numero != 1:\n",
    "        # contador para verificar a quantidade de vezes que o fator fou utilizado\n",
    "        contador = 0\n",
    "        while numero % fator == 0:\n",
    "            numero = numero / fator\n",
    "            contador += 1\n",
    "        \n",
    "        # imprime a quantidade de vezes que o fator foi utilizado\n",
    "        if contador != 0:\n",
    "            \n",
    "            print(f'{fator} elevado à {contador}')\n",
    "        fator = fator + 1\n",
    "\n",
    "fatora_primo()"
   ],
   "id": "f85a36738f78ff82",
   "outputs": [
    {
     "name": "stdout",
     "output_type": "stream",
     "text": [
      "Fatorando o número: 440\n",
      "2 elevado à 3\n",
      "5 elevado à 1\n",
      "11 elevado à 1\n"
     ]
    }
   ],
   "execution_count": 26
  },
  {
   "metadata": {},
   "cell_type": "markdown",
   "source": [
    "Fatoração Eigen em Python\n",
    "\n",
    "Comando para obter o determinante de uma matriz é numpy.linalg.eig()\n"
   ],
   "id": "6fea2fed599adb06"
  },
  {
   "metadata": {
    "ExecuteTime": {
     "end_time": "2024-08-17T00:40:56.847033Z",
     "start_time": "2024-08-17T00:40:56.841719Z"
    }
   },
   "cell_type": "code",
   "source": [
    "import numpy as np\n",
    "\n",
    "a = np.array([[0, 2], \n",
    "              [2, 3]])\n",
    "w, v = np.linalg.eig(a)\n",
    "print(f'E-value: {w}')\n",
    "print(f'E-vector: {v}')"
   ],
   "id": "fb083bad72a85f75",
   "outputs": [
    {
     "name": "stdout",
     "output_type": "stream",
     "text": [
      "E-value: [-1.  4.]\n",
      "E-vector: [[-0.89442719 -0.4472136 ]\n",
      " [ 0.4472136  -0.89442719]]\n"
     ]
    }
   ],
   "execution_count": 31
  },
  {
   "metadata": {},
   "cell_type": "code",
   "outputs": [],
   "execution_count": null,
   "source": "",
   "id": "7f09e73bcb590288"
  }
 ],
 "metadata": {
  "kernelspec": {
   "display_name": "Python 3",
   "language": "python",
   "name": "python3"
  },
  "language_info": {
   "codemirror_mode": {
    "name": "ipython",
    "version": 2
   },
   "file_extension": ".py",
   "mimetype": "text/x-python",
   "name": "python",
   "nbconvert_exporter": "python",
   "pygments_lexer": "ipython2",
   "version": "2.7.6"
  }
 },
 "nbformat": 4,
 "nbformat_minor": 5
}
