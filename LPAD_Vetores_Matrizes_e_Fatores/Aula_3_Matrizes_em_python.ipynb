{
 "cells": [
  {
   "cell_type": "code",
   "id": "initial_id",
   "metadata": {
    "collapsed": true,
    "ExecuteTime": {
     "end_time": "2024-08-02T22:01:44.989289Z",
     "start_time": "2024-08-02T22:01:44.923145Z"
    }
   },
   "source": [
    "import numpy as np\n",
    "matriz = np.array([[1,2,3],[4,5,6]])\n",
    "print(matriz)\n",
    "print(matriz.shape)\n",
    "\n",
    "print(matriz[1,2])"
   ],
   "outputs": [
    {
     "name": "stdout",
     "output_type": "stream",
     "text": [
      "[[1 2 3]\n",
      " [4 5 6]]\n",
      "(2, 3)\n",
      "6\n"
     ]
    }
   ],
   "execution_count": 2
  },
  {
   "metadata": {},
   "cell_type": "markdown",
   "source": "Para gerar uma matriz com números aleatórios, pode-se utilizar o comando numpy.random.rand().",
   "id": "9ee01e7717e9f6df"
  },
  {
   "metadata": {
    "ExecuteTime": {
     "end_time": "2024-08-02T22:13:36.949147Z",
     "start_time": "2024-08-02T22:13:36.941652Z"
    }
   },
   "cell_type": "code",
   "source": [
    "# \n",
    "import numpy as np\n",
    "\n",
    "A = np.random.rand(2, 2)\n",
    "print(f'Matriz A: {A}')\n",
    "\n",
    "B = np.random.rand(3,4)\n",
    "print(f'Matriz B: {B}')"
   ],
   "id": "39e0f9ce730e3681",
   "outputs": [
    {
     "name": "stdout",
     "output_type": "stream",
     "text": [
      "Matriz A: [[0.1415601  0.31466921]\n",
      " [0.03597508 0.6699072 ]]\n",
      "Matriz B: [[0.37098278 0.46916189 0.28921157 0.57754215]\n",
      " [0.7925774  0.0717068  0.87118654 0.03180176]\n",
      " [0.98984204 0.87292836 0.85511797 0.9439297 ]]\n"
     ]
    }
   ],
   "execution_count": 5
  },
  {
   "metadata": {},
   "cell_type": "markdown",
   "source": "Para gerar uma matriz identidade, pode-se utilizar o comando numpy.identity()",
   "id": "23f8b817daffce7f"
  },
  {
   "metadata": {
    "ExecuteTime": {
     "end_time": "2024-08-02T22:15:07.984082Z",
     "start_time": "2024-08-02T22:15:07.980535Z"
    }
   },
   "cell_type": "code",
   "source": [
    "import numpy as np\n",
    "I = np.identity(3)\n",
    "print(I)"
   ],
   "id": "820faca6f09fc464",
   "outputs": [
    {
     "name": "stdout",
     "output_type": "stream",
     "text": [
      "[[1. 0. 0.]\n",
      " [0. 1. 0.]\n",
      " [0. 0. 1.]]\n"
     ]
    }
   ],
   "execution_count": 6
  },
  {
   "metadata": {},
   "cell_type": "markdown",
   "source": "Para gerar uma matriz transposta, pode-se utilizar o comando numpy.transpose().",
   "id": "e3b251fa71cb3186"
  },
  {
   "metadata": {
    "ExecuteTime": {
     "end_time": "2024-08-03T00:38:12.319579Z",
     "start_time": "2024-08-03T00:38:12.306005Z"
    }
   },
   "cell_type": "code",
   "source": [
    "import numpy as np\n",
    "\n",
    "A = np.random.randint(10, size=(3, 2))\n",
    "\n",
    "A_transposta = np.transpose(A)\n",
    "\n",
    "print(f'Matriz: {A}')\n",
    "print(f'Matriz Transposta: {A_transposta}')"
   ],
   "id": "25ccfe83fe084880",
   "outputs": [
    {
     "name": "stdout",
     "output_type": "stream",
     "text": [
      "Matriz: [[1 3]\n",
      " [9 1]\n",
      " [6 2]]\n",
      "Matriz Transposta: [[1 9 6]\n",
      " [3 1 2]]\n"
     ]
    }
   ],
   "execution_count": 17
  },
  {
   "metadata": {},
   "cell_type": "markdown",
   "source": "Comando para multiplicação entre matrizes é numpy.matmul(A, B).",
   "id": "b2a3b6e20518dfcf"
  },
  {
   "metadata": {
    "ExecuteTime": {
     "end_time": "2024-08-03T00:43:14.253510Z",
     "start_time": "2024-08-03T00:43:14.237355Z"
    }
   },
   "cell_type": "code",
   "source": [
    "#Exemplo\n",
    "import numpy as np\n",
    "\n",
    "A = np.array([[1, -3, 5], [8, 0, 3]])\n",
    "B = np.array([[2, 4], [6, 10], [1, 5]])\n",
    "\n",
    "# Multiplicação por uma constante.\n",
    "multi = np.matmul(A, B)\n",
    "print(f'''A multiplicação etre matrizes é: \n",
    "{multi}''')"
   ],
   "id": "7e1a9bd1fe7a10ff",
   "outputs": [
    {
     "name": "stdout",
     "output_type": "stream",
     "text": [
      "A multiplicação etre matrizes é: \n",
      "[[-11  -1]\n",
      " [ 19  47]]\n"
     ]
    }
   ],
   "execution_count": 18
  },
  {
   "metadata": {},
   "cell_type": "markdown",
   "source": "Comando para obter o determinante de uma matriz é numpy.inalg.det().",
   "id": "db9b0558aaa77cab"
  },
  {
   "metadata": {
    "ExecuteTime": {
     "end_time": "2024-08-03T00:52:28.200910Z",
     "start_time": "2024-08-03T00:52:28.195642Z"
    }
   },
   "cell_type": "code",
   "source": [
    "import numpy as np\n",
    "A = np.array([[1 , 9, 5], [3, 7, 8], [10, 4, 2]])\n",
    "\n",
    "det_A = np.linalg.det(A)\n",
    "\n",
    "print(f'O determinante da matriz é: {det_A}')"
   ],
   "id": "5b0d63555bfe8531",
   "outputs": [
    {
     "name": "stdout",
     "output_type": "stream",
     "text": [
      "O determinante da matriz é: 358.0\n"
     ]
    }
   ],
   "execution_count": 19
  },
  {
   "metadata": {},
   "cell_type": "markdown",
   "source": [
    "Calcule o determinante das matrizes A e B abaixo utilizando um código em python \n",
    "\n",
    "A = [[2, 5, -3], [1, 4, 7], [-2, 0, 6]]\n",
    "\n",
    "B = [[raiz2, 2, 1], [-1, raiz3, 3], [3, 2, raiz6]] "
   ],
   "id": "4bdd0826df953991"
  },
  {
   "metadata": {},
   "cell_type": "code",
   "outputs": [],
   "execution_count": null,
   "source": [
    "import numpy as np\n",
    "from math import sqrt\n",
    "\n",
    "A = np.array([[2,5,-3],[1,4,7],[-2,0,6]])\n",
    "B = np.array([[sqrt(2),2,1], [-1,sqrt(3),3], [3,2,sqrt(6)]])\n",
    "\n",
    "detA = np.linalg.det(A)\n",
    "detB = np.linalg.det(B)\n",
    "\n",
    "print(f'Determinante de A: {detA}')\n",
    "print(f'Determinante de B: {detB}')"
   ],
   "id": "a33757b2327ae529"
  }
 ],
 "metadata": {
  "kernelspec": {
   "display_name": "Python 3",
   "language": "python",
   "name": "python3"
  },
  "language_info": {
   "codemirror_mode": {
    "name": "ipython",
    "version": 2
   },
   "file_extension": ".py",
   "mimetype": "text/x-python",
   "name": "python",
   "nbconvert_exporter": "python",
   "pygments_lexer": "ipython2",
   "version": "2.7.6"
  }
 },
 "nbformat": 4,
 "nbformat_minor": 5
}
