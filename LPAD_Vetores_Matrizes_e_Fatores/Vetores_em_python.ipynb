{
 "cells": [
  {
   "metadata": {},
   "cell_type": "markdown",
   "source": [
    "# Código para Cálculo de Módulo de Vetores usando NumPy\n",
    "\n",
    "Este código utiliza a biblioteca NumPy para criar vetores e calcular seus módulos. O módulo de um vetor é essencialmente o seu comprimento ou magnitude."
   ],
   "id": "b527264bfe1f44e4"
  },
  {
   "metadata": {
    "ExecuteTime": {
     "end_time": "2024-08-02T02:27:00.934153Z",
     "start_time": "2024-08-02T02:27:00.926185Z"
    }
   },
   "cell_type": "code",
   "source": [
    "import numpy as np\n",
    "\n",
    "# Criação de um vetor com elementos de 1 a 8\n",
    "vetor = np.array([1, 2, 3, 4, 5, 6, 7, 8])  \n",
    "print(vetor)  # Imprime o vetor criado\n",
    "\n",
    "# Cálculo do módulo do vetor utilizando a função 'norm' da biblioteca 'linalg' do NumPy\n",
    "modulo = np.linalg.norm(vetor)\n",
    "print(modulo)  # Imprime o módulo do vetor\n",
    "\n",
    "# Determinação do módulo do vetor U = (-55, 12)\n",
    "vetor_u = np.array([-55, 12])  # Criação do vetor U\n",
    "modulo_u = np.linalg.norm(vetor_u)  # Cálculo do módulo do vetor U\n",
    "print(modulo_u)  # Imprime o módulo do vetor U\n",
    "\n",
    "# Determinação do módulo do vetor V = (11, -23, 4)\n",
    "vetor_v = np.array([11, -23, 4])  # Criação do vetor V\n",
    "modulo_v = np.linalg.norm(vetor_v)  # Cálculo do módulo do vetor V\n",
    "print(modulo_v)  # Imprime o módulo do vetor V"
   ],
   "id": "9f46fdaa70cea7c",
   "outputs": [
    {
     "name": "stdout",
     "output_type": "stream",
     "text": [
      "[1 2 3 4 5 6 7 8]\n",
      "14.2828568570857\n",
      "56.293871780150276\n",
      "25.80697580112788\n"
     ]
    }
   ],
   "execution_count": 5
  },
  {
   "metadata": {},
   "cell_type": "markdown",
   "source": [
    "# Operações Básicas com Vetores usando NumPy\n",
    "\n",
    "Este código realiza operações básicas (soma, subtração e multiplicação) com vetores utilizando a biblioteca NumPy."
   ],
   "id": "99565770f9e333f1"
  },
  {
   "metadata": {
    "ExecuteTime": {
     "end_time": "2024-08-01T22:57:19.044967Z",
     "start_time": "2024-08-01T22:57:19.033331Z"
    }
   },
   "cell_type": "code",
   "source": [
    "import numpy as np\n",
    "\n",
    "# Criação dos vetores u e v\n",
    "u = np.array([-3, -5])  # Vetor u com elementos -3 e -5\n",
    "v = np.array([6, 27])   # Vetor v com elementos 6 e 27\n",
    "\n",
    "# Soma dos vetores u e v\n",
    "soma = u + v  # Soma elemento a elemento dos vetores u e v\n",
    "print('A soma dos vetores é:', soma)  # Imprime o resultado da soma\n",
    "\n",
    "# Subtração dos vetores u e v\n",
    "subtracao = u - v  # Subtrai elemento a elemento do vetor v do vetor u\n",
    "print(f'A subtração dos vetores é: {subtracao}')  # Imprime o resultado da subtração\n",
    "\n",
    "# Multiplicação do vetor u por um escalar\n",
    "mult = 9 * u  # Multiplica cada elemento do vetor u pelo escalar 9\n",
    "print(f'A multiplicação é: {mult}')  # Imprime o resultado da multiplicação\n",
    "\n",
    "# Multiplicação do vetor v por uma fração\n",
    "multfra = (1/3) * v  # Multiplica cada elemento do vetor v pela fração 1/3\n",
    "print(f'A multiplicação por fração é: {multfra}')  # Imprime o resultado da multiplicação por fração\n"
   ],
   "id": "initial_id",
   "outputs": [
    {
     "name": "stdout",
     "output_type": "stream",
     "text": [
      "A soma dos vetores é: [ 3 22]\n",
      "A subtração dos vetores é: [ -9 -32]\n",
      "A multiplicação é: [-27 -45]\n",
      "A multiplicação por fração é: [2. 9.]\n"
     ]
    }
   ],
   "execution_count": 6
  },
  {
   "metadata": {},
   "cell_type": "markdown",
   "source": [
    "# Operações Básicas com Vetores usando NumPy\n",
    "Este código realiza operações básicas (soma, subtração e multiplicação) com vetores utilizando a biblioteca NumPy.\n",
    "\n",
    "Dado os vetores U = (2, 5/3) e V = (-1, 7)\n",
    "Determine a soma e subtração de ambos, a multiplicação de U por 3 de V por 1/5."
   ],
   "id": "900738ac3162cd8f"
  },
  {
   "metadata": {
    "ExecuteTime": {
     "end_time": "2024-08-02T02:33:34.707297Z",
     "start_time": "2024-08-02T02:33:34.699521Z"
    }
   },
   "cell_type": "code",
   "source": [
    "import numpy as np\n",
    "\n",
    "# Criação dos vetores vetor_u e vetor_v\n",
    "vetor_u = np.array([2, 5/3])  # Vetor vetor_u com elementos 2 e 5/3\n",
    "vetor_v = np.array([-1, 7])   # Vetor vetor_v com elementos -1 e 7\n",
    "\n",
    "# Soma dos vetores vetor_u e vetor_v\n",
    "soma = vetor_u + vetor_v  # Soma elemento a elemento dos vetores vetor_u e vetor_v\n",
    "\n",
    "# Subtração dos vetores vetor_u e vetor_v\n",
    "subtracao = vetor_u - vetor_v  # Subtrai elemento a elemento do vetor vetor_v do vetor vetor_u\n",
    "\n",
    "# Multiplicação do vetor vetor_u por um escalar\n",
    "mult = 3 * vetor_u  # Multiplica cada elemento do vetor vetor_u pelo escalar 3\n",
    "\n",
    "# Multiplicação do vetor vetor_v por uma fração\n",
    "multfra = 1/5 * vetor_v  # Multiplica cada elemento do vetor vetor_v pela fração 1/5\n",
    "\n",
    "# Imprime os resultados das operações\n",
    "print(f'A soma dos vetores é: {soma}') # Imprime o resultado da soma dos vetores\n",
    "print(f'A subtração dos vetores é: {subtracao}')  # Imprime o resultado da subtração dos vetores\n",
    "print(f'A multiplicação dos vetores é: {mult}') # Imprime o resultado da multiplicação do vetor vetor_u por 3\n",
    "print(f'A multiplicação por fração é: {multfra}')  # Imprime o resultado da multiplicação do vetor vetor_v por 1/5\n",
    "\n",
    "\n",
    "\n"
   ],
   "id": "883692ed7ce1a7e3",
   "outputs": [
    {
     "name": "stdout",
     "output_type": "stream",
     "text": [
      "A soma dos vetores é: [1.         8.66666667]\n",
      "A subtração dos vetores é: [ 3.         -5.33333333]\n",
      "A multiplicação dos vetores é: [6. 5.]\n",
      "A multiplicação por fração é: [-0.2  1.4]\n"
     ]
    }
   ],
   "execution_count": 7
  },
  {
   "metadata": {},
   "cell_type": "markdown",
   "source": [
    "# Operações com Vetores usando NumPy: Cálculo de Módulo e Vetor Resultante\n",
    "Este código calcula os módulos de dois vetores e também a soma dos quadrados de seus elementos, usando a biblioteca NumPy.\n",
    "\n",
    "Determine o módulo da resultante R de dois vetores, \n",
    "A e B, que formam entre sí um angulo de 90º e cujas as componentes\n",
    "São dadas por: A (12, 5) e B (-9, -1)."
   ],
   "id": "626247b951dcdffb"
  },
  {
   "metadata": {
    "ExecuteTime": {
     "end_time": "2024-08-02T02:45:36.079109Z",
     "start_time": "2024-08-02T02:45:36.073037Z"
    }
   },
   "cell_type": "code",
   "source": [
    "import numpy as np \n",
    "\n",
    "# Definição dos vetores\n",
    "vetor_a = np.array([12, 5])  # Cria um array NumPy para o vetor A com componentes 12 e 5\n",
    "vetor_b = np.array([-9, -1])  # Cria um array NumPy para o vetor B com componentes -9 e -1\n",
    "\n",
    "# Cálculo do módulo dos vetores\n",
    "modulo_a = np.linalg.norm(vetor_a)  # Calcula o módulo (norma) do vetor A usando a função np.linalg.norm\n",
    "modulo_b = np.linalg.norm(vetor_b)  # Calcula o módulo (norma) do vetor B usando a função np.linalg.norm\n",
    "\n",
    "# Cálculo do módulo da resultante R\n",
    "# Como os vetores são perpendiculares, usamos o teorema de Pitágoras para calcular o módulo da resultante\n",
    "modulo_resultante = np.sqrt(modulo_a**2 + modulo_b**2)  # Calcula a raiz quadrada da soma dos quadrados dos módulos de A e B\n",
    "\n",
    "# Impressão dos resultados\n",
    "print(f'Módulo de vetor_a: {modulo_a}')  # Imprime o módulo do vetor A\n",
    "print(f'Módulo de vetor_b: {modulo_b}')  # Imprime o módulo do vetor B\n",
    "print(f'Módulo da resultante R: {modulo_resultante}')  # Imprime o módulo da resultante R\n",
    "\n"
   ],
   "id": "1dedf9a6fe34c82c",
   "outputs": [
    {
     "name": "stdout",
     "output_type": "stream",
     "text": [
      "13.0\n",
      "9.055385138137417\n",
      "[225  26]\n"
     ]
    }
   ],
   "execution_count": 12
  },
  {
   "metadata": {},
   "cell_type": "markdown",
   "source": [
    "# Cálculo do Produto Escalar entre Dois Vetores\n",
    "Este código calcula o produto escalar entre dois vetores tridimensionais.\n",
    "Escreva um código que determina o produto escalar dos vetores A = (5, 4, 2) e B = (1, 3, -12)."
   ],
   "id": "fa582c29544bffeb"
  },
  {
   "metadata": {
    "ExecuteTime": {
     "end_time": "2024-08-02T02:40:45.421747Z",
     "start_time": "2024-08-02T02:40:45.415917Z"
    }
   },
   "cell_type": "code",
   "source": [
    "import numpy as np\n",
    "\n",
    "# Criação dos vetores vetor_a e vetor_b\n",
    "vetor_a = np.array([5, 4, 2])  # Vetor vetor_a com elementos 5, 4 e 2\n",
    "vetor_b = np.array([1, 3, -12])  # Vetor vetor_b com elementos 1, 3 e -12\n",
    "\n",
    "# Cálculo do produto escalar\n",
    "produto_escalar = np.dot(vetor_a, vetor_b) # Calcula o produto escalar entre vetor_a e vetor_b\n",
    "\n",
    "# Impressão do valor do produto escalar\n",
    "print(produto_escalar)  # Exibe o valor do produto escalar calculado\n"
   ],
   "id": "fbf05fff7bbdfeaa",
   "outputs": [
    {
     "name": "stdout",
     "output_type": "stream",
     "text": [
      "-7\n"
     ]
    }
   ],
   "execution_count": 11
  },
  {
   "metadata": {},
   "cell_type": "markdown",
   "source": [
    "# Cálculo da Resultante entre Dois Vetores em um Ângulo de 135 Graus\n",
    "Este código calcula a resultante entre dois vetores considerando um ângulo de 135 graus entre eles.\n",
    "\n",
    "Determine o módulo da resultante R de dois vetores, A e B, que\n",
    "formam entre si um ângulo de 135º e cujas as componentes são dadas por A = (-2, 3) e B = (7, 4).\n",
    "Dica: Para calcular a raiz quadrada e cosseno use a biblioteca math que contém as funções sqrt() e cos(),\n",
    "sendo que o cosseno é calculado em radianos."
   ],
   "id": "426d49be6da749ec"
  },
  {
   "metadata": {},
   "cell_type": "code",
   "outputs": [
    {
     "name": "stdout",
     "output_type": "stream",
     "text": [
      "A resultante é: 6.073745995496607\n"
     ]
    }
   ],
   "execution_count": 8,
   "source": [
    "import numpy as np  # Importa a biblioteca NumPy para manipulação de vetores e cálculos matemáticos\n",
    "import math  # Importa a biblioteca math para funções matemáticas adicionais\n",
    "\n",
    "# Criação dos vetores vetor_a e vetor_b\n",
    "vetor_a = np.array([-2, 3])  # Vetor vetor_a com elementos -2 e 3\n",
    "vetor_b = np.array([7, 4])  # Vetor vetor_b com elementos 7 e 4\n",
    "\n",
    "# Cálculo do módulo (norma) dos vetores\n",
    "modulo_a = np.linalg.norm(vetor_a)  # Calcula o módulo (norma) do vetor vetor_a\n",
    "modulo_b = np.linalg.norm(vetor_b)  # Calcula o módulo (norma) do vetor vetor_b\n",
    "\n",
    "# Cálculo do cosseno de 135 graus\n",
    "cos135 = math.cos(math.radians(135))  # Converte 135 graus para radianos e calcula o cosseno\n",
    "\n",
    "# Cálculo da resultante ao quadrado utilizando a fórmula do paralelogramo\n",
    "resultante_quadrado = (modulo_a ** 2) + (modulo_b ** 2) + (2 * modulo_a * modulo_b * cos135)\n",
    "\n",
    "# Cálculo da resultante, que é a raiz quadrada da resultante ao quadrado\n",
    "resultante = math.sqrt(resultante_quadrado)\n",
    "\n",
    "# Impressão do valor da resultante\n",
    "print(f'A resultante é: {resultante}')  # Imprime a resultante\n",
    "\n"
   ],
   "id": "d8b64838beff851e"
  },
  {
   "metadata": {},
   "cell_type": "code",
   "outputs": [],
   "execution_count": null,
   "source": "",
   "id": "b6bf4b6184dad55"
  }
 ],
 "metadata": {
  "kernelspec": {
   "display_name": "Python 3",
   "language": "python",
   "name": "python3"
  },
  "language_info": {
   "codemirror_mode": {
    "name": "ipython",
    "version": 2
   },
   "file_extension": ".py",
   "mimetype": "text/x-python",
   "name": "python",
   "nbconvert_exporter": "python",
   "pygments_lexer": "ipython2",
   "version": "2.7.6"
  }
 },
 "nbformat": 4,
 "nbformat_minor": 5
}
