{
 "cells": [
  {
   "cell_type": "code",
   "id": "initial_id",
   "metadata": {
    "collapsed": true,
    "ExecuteTime": {
     "end_time": "2024-08-05T23:26:37.344798Z",
     "start_time": "2024-08-05T23:26:37.283395Z"
    }
   },
   "source": [
    "import numpy as np\n",
    "import random"
   ],
   "outputs": [],
   "execution_count": 1
  },
  {
   "metadata": {
    "ExecuteTime": {
     "end_time": "2024-08-05T23:26:37.348848Z",
     "start_time": "2024-08-05T23:26:37.344798Z"
    }
   },
   "cell_type": "code",
   "source": [
    "#Vetores em R\n",
    "#Exercicio fácil: Crie um vetor com os númes de 1 a 10 e imprima-o.\n",
    "vetor = list(range(1,11))\n",
    "print(vetor)"
   ],
   "id": "ca09c57d6cd94d37",
   "outputs": [
    {
     "name": "stdout",
     "output_type": "stream",
     "text": [
      "[1, 2, 3, 4, 5, 6, 7, 8, 9, 10]\n"
     ]
    }
   ],
   "execution_count": 2
  },
  {
   "metadata": {
    "ExecuteTime": {
     "end_time": "2024-08-05T23:26:37.353319Z",
     "start_time": "2024-08-05T23:26:37.349856Z"
    }
   },
   "cell_type": "code",
   "source": [
    "#Exercício fácil: Crie um vetor com os números pares de 2 a 20 e imprima-o.\n",
    "vetor = list(range(2,21,2))\n",
    "print(vetor)"
   ],
   "id": "d75497e4a7897f85",
   "outputs": [
    {
     "name": "stdout",
     "output_type": "stream",
     "text": [
      "[2, 4, 6, 8, 10, 12, 14, 16, 18, 20]\n"
     ]
    }
   ],
   "execution_count": 3
  },
  {
   "metadata": {
    "ExecuteTime": {
     "end_time": "2024-08-05T23:26:37.357318Z",
     "start_time": "2024-08-05T23:26:37.354327Z"
    }
   },
   "cell_type": "code",
   "source": [
    "# Exercício médio: Calcule a soma dos elementos de um vetor com números de 1a 100.\n",
    "vetor = list(range(1,101))\n",
    "soma = sum(vetor)\n",
    "print(soma)"
   ],
   "id": "7a71ab9f3ed4cebc",
   "outputs": [
    {
     "name": "stdout",
     "output_type": "stream",
     "text": [
      "5050\n"
     ]
    }
   ],
   "execution_count": 4
  },
  {
   "metadata": {
    "ExecuteTime": {
     "end_time": "2024-08-05T23:27:15.130963Z",
     "start_time": "2024-08-05T23:27:15.109961Z"
    }
   },
   "cell_type": "code",
   "source": [
    "# Exercício médio: Encontre o maior e o menor valor em um vetor de números\n",
    "# aleatórios entre 1 e 1000, de tamanho 50.\n",
    "print('Opção 1')\n",
    "vetor = [random.randint(1,1001) for _ in range(50)]\n",
    "menor = min(vetor)\n",
    "maior = max(vetor)\n",
    "print(f'Maior: {maior}, menor: {menor}')\n",
    "\n",
    "print('Opção 2')\n",
    "vetor2 = random.sample(range(1000), 50)\n",
    "menor2 = min(vetor2)\n",
    "maior2 = max(vetor2)\n",
    "print(f'Maior: {maior2}, menor: {menor2}')\n",
    "\n",
    "print('Opção 3')\n",
    "vetor_aleatorio = np.random.randint(1, 1001,size = 50)\n",
    "menor3 = min(vetor_aleatorio)\n",
    "maior3 = max(vetor_aleatorio)\n",
    "print(f'Maior: {maior3}, menor: {menor3}')"
   ],
   "id": "c640b42906f400c6",
   "outputs": [
    {
     "name": "stdout",
     "output_type": "stream",
     "text": [
      "Opção 1\n",
      "Maior: 1001, menor: 3\n",
      "Opção 2\n",
      "Maior: 997, menor: 19\n",
      "Opção 3\n",
      "Maior: 994, menor: 35\n"
     ]
    }
   ],
   "execution_count": 10
  },
  {
   "metadata": {
    "ExecuteTime": {
     "end_time": "2024-08-05T23:26:37.374714Z",
     "start_time": "2024-08-05T23:26:37.370785Z"
    }
   },
   "cell_type": "code",
   "source": [
    "# Exercício difícil: Crie um vetor com os 10 primeiros números primos\n",
    "def eh_primo(n):\n",
    "    if n <= 1:\n",
    "        return False\n",
    "    for i in range(2, int(n**0.5)+1):\n",
    "        if n % i == 0:\n",
    "            return False\n",
    "    return True\n",
    "primos = []\n",
    "num = 2\n",
    "while len(primos) < 10:\n",
    "    if eh_primo(num):\n",
    "        primos.append(num)\n",
    "    num += 1\n",
    "print(primos)"
   ],
   "id": "8743e29cd49512cd",
   "outputs": [
    {
     "name": "stdout",
     "output_type": "stream",
     "text": [
      "[2, 3, 5, 7, 11, 13, 17, 19, 23, 29]\n"
     ]
    }
   ],
   "execution_count": 6
  },
  {
   "metadata": {
    "ExecuteTime": {
     "end_time": "2024-08-05T23:26:37.379502Z",
     "start_time": "2024-08-05T23:26:37.374714Z"
    }
   },
   "cell_type": "code",
   "source": [
    "# Exercício difícil: Inverta a ordem dos elementos de um vetor\n",
    "# de tamanho 20, preenchido com números aleatórios\n",
    "vetor = [random.randint(1, 100) for _ in range(20)]\n",
    "print(vetor)\n",
    "\n",
    "vetor_invertido = vetor[::-1]\n",
    "print(vetor_invertido)"
   ],
   "id": "2ba5b91252c02ff8",
   "outputs": [
    {
     "name": "stdout",
     "output_type": "stream",
     "text": [
      "[26, 42, 87, 31, 87, 54, 96, 15, 80, 71, 78, 16, 30, 20, 3, 17, 71, 17, 68, 76]\n",
      "[76, 68, 17, 71, 17, 3, 20, 30, 16, 78, 71, 80, 15, 96, 54, 87, 31, 87, 42, 26]\n"
     ]
    }
   ],
   "execution_count": 7
  },
  {
   "metadata": {
    "ExecuteTime": {
     "end_time": "2024-08-05T23:26:37.383832Z",
     "start_time": "2024-08-05T23:26:37.379502Z"
    }
   },
   "cell_type": "code",
   "source": [
    "# Matrizes\n",
    "# Exercício fácil: Crie uma matriz 3x3 com os números de 1 a 9.\n",
    "matriz = np.arange(1,10).reshape(3, 3)\n",
    "print(matriz)"
   ],
   "id": "b9138b0e13f2c77a",
   "outputs": [
    {
     "name": "stdout",
     "output_type": "stream",
     "text": [
      "[[1 2 3]\n",
      " [4 5 6]\n",
      " [7 8 9]]\n"
     ]
    }
   ],
   "execution_count": 8
  },
  {
   "metadata": {
    "ExecuteTime": {
     "end_time": "2024-08-06T00:26:29.689512Z",
     "start_time": "2024-08-06T00:26:29.682541Z"
    }
   },
   "cell_type": "code",
   "source": [
    "#Exercício fácil: Crie uma matriz identidade 4x4 e imprima-a.\n",
    "print('Opção 1')\n",
    "matriz_identidade = np.identity(4)\n",
    "print(matriz_identidade)\n",
    "\n",
    "print('Opção 2')\n",
    "matriz_identidade2 = np.eye(4)\n",
    "print(matriz_identidade2)"
   ],
   "id": "e75d744b13c38772",
   "outputs": [
    {
     "name": "stdout",
     "output_type": "stream",
     "text": [
      "Opção 1\n",
      "[[1. 0. 0. 0.]\n",
      " [0. 1. 0. 0.]\n",
      " [0. 0. 1. 0.]\n",
      " [0. 0. 0. 1.]]\n",
      "Opção 2\n",
      "[[1. 0. 0. 0.]\n",
      " [0. 1. 0. 0.]\n",
      " [0. 0. 1. 0.]\n",
      " [0. 0. 0. 1.]]\n"
     ]
    }
   ],
   "execution_count": 11
  },
  {
   "metadata": {
    "ExecuteTime": {
     "end_time": "2024-08-06T00:31:55.854066Z",
     "start_time": "2024-08-06T00:31:55.849312Z"
    }
   },
   "cell_type": "code",
   "source": [
    "# Exercício médio: Some duas matrizes 2x2.\n",
    "matriz1 = np.array([[1, 2], [3, 4]])\n",
    "matriz2 = np.array([[5, 6], [7, 8]])\n",
    "matriz_soma = matriz1 + matriz2\n",
    "print(matriz_soma)"
   ],
   "id": "dcac805baa47cb1b",
   "outputs": [
    {
     "name": "stdout",
     "output_type": "stream",
     "text": [
      "[[ 6  8]\n",
      " [10 12]]\n"
     ]
    }
   ],
   "execution_count": 12
  },
  {
   "metadata": {
    "ExecuteTime": {
     "end_time": "2024-08-06T00:43:27.355569Z",
     "start_time": "2024-08-06T00:43:27.347221Z"
    }
   },
   "cell_type": "code",
   "source": [
    "# Exercício médio: Multiplique duas matrizes 2x2.\n",
    "matriz1 = np.array([[1, 2], [3, 4]])\n",
    "matriz2 = np.array([[5, 6], [7, 8]])\n",
    "matriz_mult = np.dot(matriz1, matriz2)\n",
    "print(matriz_mult)"
   ],
   "id": "1155ca712a730da",
   "outputs": [
    {
     "name": "stdout",
     "output_type": "stream",
     "text": [
      "[[19 22]\n",
      " [43 50]]\n"
     ]
    }
   ],
   "execution_count": 14
  },
  {
   "metadata": {
    "ExecuteTime": {
     "end_time": "2024-08-06T00:52:44.794362Z",
     "start_time": "2024-08-06T00:52:44.779381Z"
    }
   },
   "cell_type": "code",
   "source": [
    "# Exercício difícil: Calcule a transposta de uma matrix 3x3.\n",
    "matriz = np.array([[1, 2, 3], [4, 5, 6], [7, 8, 9]])\n",
    "matriz_transposta = np.transpose(matriz)\n",
    "print(matriz_transposta)"
   ],
   "id": "a9f5618c8ed5399",
   "outputs": [
    {
     "name": "stdout",
     "output_type": "stream",
     "text": [
      "[[1 4 7]\n",
      " [2 5 8]\n",
      " [3 6 9]]\n"
     ]
    }
   ],
   "execution_count": 15
  },
  {
   "metadata": {
    "ExecuteTime": {
     "end_time": "2024-08-06T01:08:38.611327Z",
     "start_time": "2024-08-06T01:08:38.599313Z"
    }
   },
   "cell_type": "code",
   "source": [
    "# Exercício difícil: Calcule a determinante de uma matriz 3x3.\n",
    "matriz = np.array([[1, 2, 3], [4, 5, 6], [7, 8, 9]])\n",
    "determinante = np.linalg.det(matriz)\n",
    "print(determinante)"
   ],
   "id": "13c58f70fced7e4",
   "outputs": [
    {
     "name": "stdout",
     "output_type": "stream",
     "text": [
      "0.0\n"
     ]
    }
   ],
   "execution_count": 16
  },
  {
   "metadata": {},
   "cell_type": "code",
   "outputs": [
    {
     "name": "stdout",
     "output_type": "stream",
     "text": [
      "['vermelho', 'azul', 'Verde']\n",
      "Categories (3, object): ['Verde', 'azul', 'vermelho']\n"
     ]
    }
   ],
   "execution_count": 5,
   "source": [
    "# Exercício fácil: Crie um vetor de categorias (fatores) com as cores 'vermelho', 'Azul' e 'Verde'\n",
    "import pandas as pd\n",
    "cores = pd.Categorical(['vermelho', 'azul', 'Verde'])\n",
    "print(cores)"
   ],
   "id": "37c635c3518b641"
  },
  {
   "metadata": {},
   "cell_type": "code",
   "outputs": [
    {
     "name": "stdout",
     "output_type": "stream",
     "text": [
      "['Segunda', 'Terca', 'Quarta', 'Quinta', 'Sexta', 'Sabado', 'Domingo']\n",
      "Categories (7, object): ['Domingo', 'Quarta', 'Quinta', 'Sabado', 'Segunda', 'Sexta', 'Terca']\n"
     ]
    }
   ],
   "execution_count": 8,
   "source": [
    "import pandas as pd\n",
    "# Exercício fácil: Crie um vetor de fatores para os dias da semana e imprima-os.\n",
    "dias_da_semana = pd.Categorical(['Segunda', 'Terca', 'Quarta', 'Quinta', 'Sexta', 'Sabado', 'Domingo'])\n",
    "print(dias_da_semana)"
   ],
   "id": "cfee3c744183917b"
  },
  {
   "metadata": {},
   "cell_type": "code",
   "outputs": [
    {
     "name": "stdout",
     "output_type": "stream",
     "text": [
      "['Baixo', 'Alto', 'Médio']\n",
      "Categories (3, object): ['Baixo' < 'Médio' < 'Alto']\n"
     ]
    }
   ],
   "execution_count": 10,
   "source": [
    "# Exercício médio: Crie um vetor de fatores com as categorias 'Baixo', 'mádio' e 'alto' e ordene-os.\n",
    "niveis = pd.Categorical(['Baixo', 'Alto', 'Médio'], categories = ['Baixo', 'Médio', 'Alto'], ordered=True)\n",
    "print(niveis)"
   ],
   "id": "7f9d2d6a31903a79"
  },
  {
   "metadata": {},
   "cell_type": "code",
   "outputs": [
    {
     "name": "stdout",
     "output_type": "stream",
     "text": [
      "[0 2 1]\n"
     ]
    }
   ],
   "execution_count": 12,
   "source": [
    "# Exercício médio: Converta um vetor de fatores em um vetor numérico.\n",
    "import pandas as pd\n",
    "categorias = pd.Categorical(['Baixo', 'Alto', 'Médio'], categories = ['Baixo', 'Médio', 'Alto'], ordered=True)\n",
    "numeros = categorias.codes\n",
    "print(numeros)"
   ],
   "id": "8608fc9d8f0f74bb"
  },
  {
   "metadata": {},
   "cell_type": "code",
   "outputs": [
    {
     "name": "stdout",
     "output_type": "stream",
     "text": [
      "['Extra Pequeno', 'Médio', 'Grande']\n",
      "Categories (3, object): ['Extra Pequeno' < 'Médio' < 'Grande']\n"
     ]
    }
   ],
   "execution_count": 15,
   "source": [
    "# Exercício difícil: Crie um vetor de fatores com as categorias\n",
    "# 'Pequeno', 'Médio' e 'Grande' e substitua pequeno por 'Extra Pequeno'.\n",
    "import pandas as pd\n",
    "tamanhos = pd.Categorical(['Pequeno', 'Médio', 'Grande'], categories = ['Pequeno', 'Médio', 'Grande'], ordered=True)\n",
    "tamanhos2 = tamanhos.rename_categories({'Pequeno': 'Extra Pequeno'})\n",
    "print(tamanhos2)"
   ],
   "id": "f13b6ba499cb5722"
  },
  {
   "metadata": {},
   "cell_type": "code",
   "outputs": [
    {
     "name": "stdout",
     "output_type": "stream",
     "text": [
      "Baixo    37\n",
      "Médio    34\n",
      "Alto     29\n",
      "Name: count, dtype: int64\n"
     ]
    },
    {
     "name": "stderr",
     "output_type": "stream",
     "text": [
      "C:\\Users\\84284528572\\AppData\\Local\\Temp\\ipykernel_3216\\2174898043.py:8: FutureWarning: pandas.value_counts is deprecated and will be removed in a future version. Use pd.Series(obj).value_counts() instead.\n",
      "  frequencias = pd.value_counts(fatores)\n"
     ]
    }
   ],
   "execution_count": 22,
   "source": [
    "# Exercício difícil: Crie um vetor de fatores com 100 elementos aleatórios entre\n",
    "# 'Baixo', 'Médio', 'Alto', e calcule a frequência de cada categoria.\n",
    "import pandas as pd\n",
    "import random\n",
    "categorias = ['Baixo', 'Médio', 'Alto']\n",
    "vetor = [random.choice(categorias) for _ in range(100)]\n",
    "fatores = pd.Categorical(vetor, categories = categorias, ordered=True)\n",
    "frequencias = pd.value_counts(fatores)\n",
    "print(frequencias)"
   ],
   "id": "f357dbb622ab7e5c"
  }
 ],
 "metadata": {
  "kernelspec": {
   "display_name": "Python 3",
   "language": "python",
   "name": "python3"
  },
  "language_info": {
   "codemirror_mode": {
    "name": "ipython",
    "version": 2
   },
   "file_extension": ".py",
   "mimetype": "text/x-python",
   "name": "python",
   "nbconvert_exporter": "python",
   "pygments_lexer": "ipython2",
   "version": "2.7.6"
  }
 },
 "nbformat": 4,
 "nbformat_minor": 5
}
