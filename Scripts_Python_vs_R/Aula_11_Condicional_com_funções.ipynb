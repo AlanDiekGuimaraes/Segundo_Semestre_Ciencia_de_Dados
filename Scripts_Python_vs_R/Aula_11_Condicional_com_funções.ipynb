{
 "cells": [
  {
   "metadata": {},
   "cell_type": "markdown",
   "source": "# Operadores condicionais",
   "id": "7cf009890b607012"
  },
  {
   "metadata": {},
   "cell_type": "markdown",
   "source": "### Condicionais simples",
   "id": "9490a3650e82789d"
  },
  {
   "metadata": {},
   "cell_type": "markdown",
   "source": "Verifique se um número é positivo. ",
   "id": "5c59c73622eeb347"
  },
  {
   "metadata": {
    "ExecuteTime": {
     "end_time": "2024-08-12T23:16:54.871391Z",
     "start_time": "2024-08-12T23:16:54.864724Z"
    }
   },
   "cell_type": "code",
   "source": [
    "\n",
    "numero = 5\n",
    "if numero > 0:\n",
    "    print(f'O número {numero} é positivo')\n",
    "else: \n",
    "    print(f'O número {numero} é negativo')"
   ],
   "id": "initial_id",
   "outputs": [
    {
     "name": "stdout",
     "output_type": "stream",
     "text": [
      "O número 5 é positivo\n"
     ]
    }
   ],
   "execution_count": 4
  },
  {
   "metadata": {},
   "cell_type": "markdown",
   "source": "Verifique se uma palavra contém mais de 5 caracteres",
   "id": "82dda9801c55948c"
  },
  {
   "metadata": {
    "ExecuteTime": {
     "end_time": "2024-08-12T23:16:55.830522Z",
     "start_time": "2024-08-12T23:16:55.812188Z"
    }
   },
   "cell_type": "code",
   "source": [
    "\n",
    "palavra = 'Alan'\n",
    "if len(palavra) > 5:\n",
    "    print(f'A palavra {palavra} contém mais de 5 caracteres')\n",
    "else:\n",
    "    print(f'A pavavra {palavra} contém menos de 5 caracteres')"
   ],
   "id": "2a6051b4bcca87b1",
   "outputs": [
    {
     "name": "stdout",
     "output_type": "stream",
     "text": [
      "A pavavra Alan contém menos de 5 caracteres\n"
     ]
    }
   ],
   "execution_count": 5
  },
  {
   "metadata": {},
   "cell_type": "markdown",
   "source": "Verifique se o ano é bissexto",
   "id": "316fc7e6069dd921"
  },
  {
   "metadata": {
    "ExecuteTime": {
     "end_time": "2024-08-12T23:16:56.788041Z",
     "start_time": "2024-08-12T23:16:56.767190Z"
    }
   },
   "cell_type": "code",
   "source": [
    "\n",
    "ano = 2024\n",
    "if (ano % 4 == 0 and ano % 100 != 0) or (ano % 400 == 0):\n",
    "    print(f'O ano {ano} é bissexto')\n",
    "else:\n",
    "    print(f'O ano {ano} não é bissexto')"
   ],
   "id": "40f6f2f3307e1ada",
   "outputs": [
    {
     "name": "stdout",
     "output_type": "stream",
     "text": [
      "O ano 2024 é bissexto\n"
     ]
    }
   ],
   "execution_count": 6
  },
  {
   "metadata": {},
   "cell_type": "markdown",
   "source": "# Composta\n",
   "id": "e974375e57129115"
  },
  {
   "metadata": {},
   "cell_type": "markdown",
   "source": "Verifique se um número está entre 10 e 20.",
   "id": "25568f26aaa9c6f9"
  },
  {
   "metadata": {
    "ExecuteTime": {
     "end_time": "2024-08-12T23:16:59.357093Z",
     "start_time": "2024-08-12T23:16:59.343159Z"
    }
   },
   "cell_type": "code",
   "source": [
    "\n",
    "numero = 15\n",
    "if numero >= 10 and numero <= 20:\n",
    "    print('O número está entre 10 e 20')\n",
    "else:\n",
    "    print('O número não está entre 10 e 20.')"
   ],
   "id": "6dc956f143717a1f",
   "outputs": [
    {
     "name": "stdout",
     "output_type": "stream",
     "text": [
      "O número está entre 10 e 20\n"
     ]
    }
   ],
   "execution_count": 7
  },
  {
   "metadata": {},
   "cell_type": "markdown",
   "source": "Verifique se uma string contém letras e números.",
   "id": "1bcba0ee003d98a3"
  },
  {
   "metadata": {
    "ExecuteTime": {
     "end_time": "2024-08-12T23:18:24.575073Z",
     "start_time": "2024-08-12T23:18:24.568450Z"
    }
   },
   "cell_type": "code",
   "source": [
    "\n",
    "string = 'abc123'\n",
    "if any(c.isalpha() for c in string) and any(c.isdigit() for c in string):\n",
    "    print('A string possui letras e números')\n",
    "else:\n",
    "    print('A string não possui letras e números')"
   ],
   "id": "34cefadc642ab862",
   "outputs": [
    {
     "name": "stdout",
     "output_type": "stream",
     "text": [
      "A string possui letras e números\n"
     ]
    }
   ],
   "execution_count": 9
  },
  {
   "metadata": {},
   "cell_type": "markdown",
   "source": "# Encadeada",
   "id": "28dacf70851e1fd5"
  },
  {
   "metadata": {},
   "cell_type": "markdown",
   "source": "Verifique a faixa etária de uma pessoa (criança, adolescente, adulto, idoso)",
   "id": "97cfcd32eb3cd792"
  },
  {
   "metadata": {
    "ExecuteTime": {
     "end_time": "2024-08-12T23:24:29.694848Z",
     "start_time": "2024-08-12T23:24:29.676905Z"
    }
   },
   "cell_type": "code",
   "source": [
    "idade = 59\n",
    "if idade < 13:\n",
    "    print('Criança')\n",
    "elif idade < 18:\n",
    "    print('Adolescente')\n",
    "elif idade < 60:\n",
    "    print('Adulto')\n",
    "else:\n",
    "    print('Idoso')\n",
    "    "
   ],
   "id": "d4cc19881e930228",
   "outputs": [
    {
     "name": "stdout",
     "output_type": "stream",
     "text": [
      "Adulto\n"
     ]
    }
   ],
   "execution_count": 12
  },
  {
   "metadata": {},
   "cell_type": "markdown",
   "source": "Determine a estação do ano baseada no mês (primavera, verão, outono, inverno)",
   "id": "ff380df4e3bb04e2"
  },
  {
   "metadata": {
    "ExecuteTime": {
     "end_time": "2024-08-13T00:14:35.721045Z",
     "start_time": "2024-08-13T00:14:35.708586Z"
    }
   },
   "cell_type": "code",
   "source": [
    "mes = 5\n",
    "if mes in [6 ,7 , 8]:\n",
    "    print('Inverno')\n",
    "elif mes in [9, 10, 11]:\n",
    "    print('Primavera')\n",
    "elif mes in [12, 1, 2]:\n",
    "    print('Verão')\n",
    "elif mes in [3, 4, 5]:\n",
    "    print('Outono')\n",
    "else: \n",
    "    print('Mês invalido')"
   ],
   "id": "74c1176f35fc982e",
   "outputs": [
    {
     "name": "stdout",
     "output_type": "stream",
     "text": [
      "Outono\n"
     ]
    }
   ],
   "execution_count": 14
  },
  {
   "metadata": {},
   "cell_type": "markdown",
   "source": "# Laços de repetição",
   "id": "61d601906b1b8897"
  },
  {
   "metadata": {},
   "cell_type": "markdown",
   "source": [
    "Contador\n",
    "\n",
    "Imprima os números de 1 a 10."
   ],
   "id": "48b24b5eb984a6af"
  },
  {
   "metadata": {
    "ExecuteTime": {
     "end_time": "2024-08-13T00:29:02.200990Z",
     "start_time": "2024-08-13T00:29:02.188883Z"
    }
   },
   "cell_type": "code",
   "source": [
    "for i in range(1,11):\n",
    "    print(i)"
   ],
   "id": "d7c9592395b58482",
   "outputs": [
    {
     "name": "stdout",
     "output_type": "stream",
     "text": [
      "1\n",
      "2\n",
      "3\n",
      "4\n",
      "5\n",
      "6\n",
      "7\n",
      "8\n",
      "9\n",
      "10\n"
     ]
    }
   ],
   "execution_count": 17
  },
  {
   "metadata": {},
   "cell_type": "markdown",
   "source": "Imprima os elementos de uma lista.",
   "id": "3750cdb5caeabfcd"
  },
  {
   "metadata": {
    "ExecuteTime": {
     "end_time": "2024-08-13T00:33:00.296906Z",
     "start_time": "2024-08-13T00:33:00.291749Z"
    }
   },
   "cell_type": "code",
   "source": [
    "lista = [1, 2, 3, 4, 5]\n",
    "for elemento in lista:\n",
    "    print(elemento)"
   ],
   "id": "75737018cc0c9932",
   "outputs": [
    {
     "name": "stdout",
     "output_type": "stream",
     "text": [
      "1\n",
      "2\n",
      "3\n",
      "4\n",
      "5\n"
     ]
    }
   ],
   "execution_count": 18
  },
  {
   "metadata": {},
   "cell_type": "markdown",
   "source": "Imprima os elementos de um dicionário.",
   "id": "ff2e7e583fdf6a3"
  },
  {
   "metadata": {
    "ExecuteTime": {
     "end_time": "2024-08-13T00:44:21.349123Z",
     "start_time": "2024-08-13T00:44:21.330695Z"
    }
   },
   "cell_type": "code",
   "source": [
    "dicionario = {'a': 1, 'b': 2, 'c': 3}\n",
    "for i in dicionario.keys():\n",
    "    print(f'Chave: {i}, Valor: {dicionario[i]}')"
   ],
   "id": "b087947ce4e4662f",
   "outputs": [
    {
     "name": "stdout",
     "output_type": "stream",
     "text": [
      "Chave: a, Valor: 1\n",
      "Chave: b, Valor: 2\n",
      "Chave: c, Valor: 3\n"
     ]
    }
   ],
   "execution_count": 25
  },
  {
   "metadata": {
    "ExecuteTime": {
     "end_time": "2024-08-13T00:43:23.316836Z",
     "start_time": "2024-08-13T00:43:23.310109Z"
    }
   },
   "cell_type": "code",
   "source": [
    "dicionario = {'a': 1, 'b': 2, 'c': 3}\n",
    "for chave, valor in dicionario.items():\n",
    "    print(f'Chave: {chave}, Valor: {valor}')"
   ],
   "id": "c5ecc071411e9fed",
   "outputs": [
    {
     "name": "stdout",
     "output_type": "stream",
     "text": [
      "Chave: a, Valor: 1\n",
      "Chave: b, Valor: 2\n",
      "Chave: c, Valor: 3\n"
     ]
    }
   ],
   "execution_count": 23
  },
  {
   "metadata": {},
   "cell_type": "markdown",
   "source": "# Condicional",
   "id": "af8772faeaeaa064"
  },
  {
   "metadata": {},
   "cell_type": "markdown",
   "source": "Imprima os números de 1 a 10 usando um laço while",
   "id": "575ce9e4f3e060b8"
  },
  {
   "metadata": {
    "ExecuteTime": {
     "end_time": "2024-08-13T00:54:01.172612Z",
     "start_time": "2024-08-13T00:54:01.167637Z"
    }
   },
   "cell_type": "code",
   "source": [
    "contador = 1\n",
    "while contador <= 10:\n",
    "    print(contador)\n",
    "    contador = contador + 1"
   ],
   "id": "c1e790b1a7bb8301",
   "outputs": [
    {
     "name": "stdout",
     "output_type": "stream",
     "text": [
      "1\n",
      "2\n",
      "3\n",
      "4\n",
      "5\n",
      "6\n",
      "7\n",
      "8\n",
      "9\n",
      "10\n"
     ]
    }
   ],
   "execution_count": 27
  },
  {
   "metadata": {},
   "cell_type": "code",
   "outputs": [],
   "execution_count": null,
   "source": "",
   "id": "58013a6c2d064fb5"
  }
 ],
 "metadata": {
  "kernelspec": {
   "display_name": "Python 3",
   "language": "python",
   "name": "python3"
  },
  "language_info": {
   "codemirror_mode": {
    "name": "ipython",
    "version": 2
   },
   "file_extension": ".py",
   "mimetype": "text/x-python",
   "name": "python",
   "nbconvert_exporter": "python",
   "pygments_lexer": "ipython2",
   "version": "2.7.6"
  }
 },
 "nbformat": 4,
 "nbformat_minor": 5
}
