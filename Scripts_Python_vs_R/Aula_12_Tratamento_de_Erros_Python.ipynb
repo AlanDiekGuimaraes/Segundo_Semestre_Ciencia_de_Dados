{
 "cells": [
  {
   "metadata": {},
   "cell_type": "markdown",
   "source": [
    "# Tratamento de erros\n",
    "Definição | Aplicação"
   ],
   "id": "7092e68526b434be"
  },
  {
   "metadata": {},
   "cell_type": "markdown",
   "source": "",
   "id": "c3d11219d3aaeaba"
  },
  {
   "cell_type": "code",
   "id": "initial_id",
   "metadata": {
    "collapsed": true,
    "ExecuteTime": {
     "end_time": "2024-08-13T21:48:54.269263Z",
     "start_time": "2024-08-13T21:48:54.259151Z"
    }
   },
   "source": [
    "try:\n",
    "    resultado = 10/0\n",
    "except ZeroDivisionError:\n",
    "    print('Erro: Divisão por zero não é permitida. ')"
   ],
   "outputs": [
    {
     "name": "stdout",
     "output_type": "stream",
     "text": [
      "Erro: Divisão por zero não é permitida. \n"
     ]
    }
   ],
   "execution_count": 1
  },
  {
   "metadata": {},
   "cell_type": "markdown",
   "source": "Implemente um bloco try-except para capturar um índice fora dos limites de uma lista.",
   "id": "c666a896d76caf6c"
  },
  {
   "metadata": {
    "ExecuteTime": {
     "end_time": "2024-08-13T21:56:41.480101Z",
     "start_time": "2024-08-13T21:56:41.473977Z"
    }
   },
   "cell_type": "code",
   "source": [
    "lista = [1, 2, 3]\n",
    "try:\n",
    "    elemento = lista[5]\n",
    "except IndexError:\n",
    "    print('Erro: Índice fora dos limites da lista')"
   ],
   "id": "5d00e8f320c0a77d",
   "outputs": [
    {
     "name": "stdout",
     "output_type": "stream",
     "text": [
      "Erro: Índice fora dos limites da lista\n"
     ]
    }
   ],
   "execution_count": 2
  },
  {
   "metadata": {},
   "cell_type": "markdown",
   "source": "Implemente um bloco try-except para capturar uma chave inexistente em um dicionário.",
   "id": "77bdad07967c308d"
  },
  {
   "metadata": {
    "ExecuteTime": {
     "end_time": "2024-08-13T22:24:39.545944Z",
     "start_time": "2024-08-13T22:24:39.533390Z"
    }
   },
   "cell_type": "code",
   "source": [
    "dicionario = {'a': 1, 'b': 2, 'c': 3, 'd': 4, 'e': 5}\n",
    "\n",
    "try:\n",
    "   letra = dicionario['r']\n",
    "   print(letra)\n",
    "except KeyError:\n",
    "    print('Erro: Chave inexistente no dicionário')"
   ],
   "id": "be6e9a1155658d71",
   "outputs": [
    {
     "name": "stdout",
     "output_type": "stream",
     "text": [
      "Erro: Chave inexistente no dicionário\n"
     ]
    }
   ],
   "execution_count": 28
  },
  {
   "metadata": {},
   "cell_type": "markdown",
   "source": "# Exercício extra",
   "id": "870627075a2ac66e"
  },
  {
   "metadata": {
    "ExecuteTime": {
     "end_time": "2024-08-13T23:01:04.512440Z",
     "start_time": "2024-08-13T23:01:02.748092Z"
    }
   },
   "cell_type": "code",
   "source": [
    "def main():\n",
    "    try:\n",
    "        numero1 = float(input('Digite o primeiro número:\\n'))\n",
    "        numero2 = float(input('Digite o segundo número:\\n'))\n",
    "        # Tentar realizar a divisão\n",
    "        resultado = numero1 / numero2\n",
    "    \n",
    "    except ZeroDivisionError as e:\n",
    "        print('Erro: Divisão por zero não permitida')\n",
    "    except ValueError as e:\n",
    "        print('Vai dividir uma letra mano?')\n",
    "    except Exception as e:\n",
    "        print(f'Ocorreu um erro inesperado: {e}')\n",
    "    else: \n",
    "        print(f'O resultado da divisão é {resultado}')\n",
    "        \n",
    "    finally:\n",
    "        print('Finalizando o sistema...')\n",
    "\n",
    "main()"
   ],
   "id": "a7d63c284291e18c",
   "outputs": [
    {
     "name": "stdout",
     "output_type": "stream",
     "text": [
      "O resultado da divisão é 0.0\n",
      "Finalizando o sistema...\n"
     ]
    }
   ],
   "execution_count": 41
  },
  {
   "metadata": {
    "ExecuteTime": {
     "end_time": "2024-08-13T23:00:58.762400Z",
     "start_time": "2024-08-13T23:00:58.753740Z"
    }
   },
   "cell_type": "code",
   "source": "",
   "id": "b69225f8a49ab81",
   "outputs": [],
   "execution_count": 40
  },
  {
   "metadata": {
    "ExecuteTime": {
     "end_time": "2024-08-13T23:01:00.667368Z",
     "start_time": "2024-08-13T23:01:00.652510Z"
    }
   },
   "cell_type": "code",
   "source": "",
   "id": "3b485447b91db60e",
   "outputs": [],
   "execution_count": 40
  },
  {
   "metadata": {},
   "cell_type": "code",
   "outputs": [],
   "execution_count": null,
   "source": "",
   "id": "16b05306c0f78814"
  }
 ],
 "metadata": {
  "kernelspec": {
   "display_name": "Python 3",
   "language": "python",
   "name": "python3"
  },
  "language_info": {
   "codemirror_mode": {
    "name": "ipython",
    "version": 2
   },
   "file_extension": ".py",
   "mimetype": "text/x-python",
   "name": "python",
   "nbconvert_exporter": "python",
   "pygments_lexer": "ipython2",
   "version": "2.7.6"
  }
 },
 "nbformat": 4,
 "nbformat_minor": 5
}
