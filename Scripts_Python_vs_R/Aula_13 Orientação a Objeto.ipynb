{
 "cells": [
  {
   "metadata": {
    "ExecuteTime": {
     "end_time": "2024-08-14T22:52:26.744491Z",
     "start_time": "2024-08-14T22:52:26.728943Z"
    }
   },
   "cell_type": "code",
   "source": [
    "def soma(a,b):\n",
    "  return a + b\n",
    "\n",
    "print(soma(3,5))"
   ],
   "id": "e9b55b913a53da27",
   "outputs": [
    {
     "name": "stdout",
     "output_type": "stream",
     "text": [
      "8\n"
     ]
    }
   ],
   "execution_count": 2
  },
  {
   "metadata": {
    "ExecuteTime": {
     "end_time": "2024-08-14T22:52:28.892434Z",
     "start_time": "2024-08-14T22:52:28.880721Z"
    }
   },
   "cell_type": "code",
   "source": [
    "def par(num):\n",
    "  return num%2 == 0\n",
    "\n",
    "print(par(2))\n",
    "print(par(3))"
   ],
   "id": "e8dfd0b070ffa18b",
   "outputs": [
    {
     "name": "stdout",
     "output_type": "stream",
     "text": [
      "True\n",
      "False\n"
     ]
    }
   ],
   "execution_count": 3
  },
  {
   "metadata": {
    "ExecuteTime": {
     "end_time": "2024-08-14T22:52:30.043706Z",
     "start_time": "2024-08-14T22:52:30.034331Z"
    }
   },
   "cell_type": "code",
   "source": [
    "def media(lista):\n",
    "  return sum(lista) / len(lista)\n",
    "\n",
    "print(media([7,6,5]))\n",
    "print(media([10,10,10]))"
   ],
   "id": "954779bbf397f80",
   "outputs": [
    {
     "name": "stdout",
     "output_type": "stream",
     "text": [
      "6.0\n",
      "10.0\n"
     ]
    }
   ],
   "execution_count": 4
  },
  {
   "metadata": {
    "ExecuteTime": {
     "end_time": "2024-08-14T22:52:31.605491Z",
     "start_time": "2024-08-14T22:52:31.591110Z"
    }
   },
   "cell_type": "code",
   "source": [
    "def soma_matriz(matriz):\n",
    "  return sum([sum(linha) for linha in matriz])\n",
    "\n",
    "matriz = [[1,2,3], [4,5,6], [7,8,9]]\n",
    "print(soma_matriz(matriz))"
   ],
   "id": "bffb7ace624ac5a",
   "outputs": [
    {
     "name": "stdout",
     "output_type": "stream",
     "text": [
      "45\n"
     ]
    }
   ],
   "execution_count": 5
  },
  {
   "metadata": {
    "ExecuteTime": {
     "end_time": "2024-08-14T22:52:32.945783Z",
     "start_time": "2024-08-14T22:52:32.935535Z"
    }
   },
   "cell_type": "code",
   "source": [
    "def palindromo(string):\n",
    "    return string == string[::-1]\n",
    "\n",
    "print(palindromo('ovo'))"
   ],
   "id": "a02736b533f845e4",
   "outputs": [
    {
     "name": "stdout",
     "output_type": "stream",
     "text": [
      "True\n"
     ]
    }
   ],
   "execution_count": 6
  },
  {
   "metadata": {
    "ExecuteTime": {
     "end_time": "2024-08-14T23:07:38.630054Z",
     "start_time": "2024-08-14T23:07:38.611754Z"
    }
   },
   "cell_type": "code",
   "source": [
    "# Implemente uma função que retorna a quantidade de vogais em uma string.\n",
    "def conta_vogais(string):\n",
    "    vogais = 'aeiou'\n",
    "    return sum(1 for char in string if char.lower() in vogais)\n",
    "print(conta_vogais('alan diek'))"
   ],
   "id": "694b14693426403f",
   "outputs": [
    {
     "name": "stdout",
     "output_type": "stream",
     "text": [
      "4\n"
     ]
    }
   ],
   "execution_count": 10
  },
  {
   "metadata": {},
   "cell_type": "markdown",
   "source": "Implemente uma função que retorna o produto de duas matrizes. ",
   "id": "96173f3f3c7452b8"
  },
  {
   "metadata": {
    "ExecuteTime": {
     "end_time": "2024-08-15T00:29:42.487089Z",
     "start_time": "2024-08-15T00:29:42.475955Z"
    }
   },
   "cell_type": "code",
   "source": [
    "matriz_a = [[1, 2], [3, 4]]\n",
    "matriz_b = [[5, 6], [7, 8]]\n",
    "def produto_matrizes(matriz_a, matriz_b):\n",
    "    resultado = [[sum(a * b for a, b in zip(linha_a, coluna_b)) for coluna_b in zip(*matriz_b)] for linha_a in matriz_a]\n",
    "    return resultado\n",
    "\n",
    "print(produto_matrizes(matriz_a, matriz_b))"
   ],
   "id": "9737ea3ff5627a68",
   "outputs": [
    {
     "name": "stdout",
     "output_type": "stream",
     "text": [
      "[[19, 22], [43, 50]]\n"
     ]
    }
   ],
   "execution_count": 23
  },
  {
   "metadata": {},
   "cell_type": "markdown",
   "source": [
    "# Recursividade\n",
    "implemente uma função recursiva que calcula o fatorial de um número. "
   ],
   "id": "24a13c09c7c9beda"
  },
  {
   "metadata": {
    "ExecuteTime": {
     "end_time": "2024-08-15T00:44:30.203569Z",
     "start_time": "2024-08-15T00:44:30.193417Z"
    }
   },
   "cell_type": "code",
   "source": [
    "def fatorial(numero):\n",
    "  if numero == 0:\n",
    "    return 1\n",
    "  else:\n",
    "    return numero * fatorial(numero - 1)\n",
    "  \n",
    "print(fatorial(5))"
   ],
   "id": "bae3420e949338d1",
   "outputs": [
    {
     "name": "stdout",
     "output_type": "stream",
     "text": [
      "120\n"
     ]
    }
   ],
   "execution_count": 33
  },
  {
   "metadata": {},
   "cell_type": "markdown",
   "source": "Implemente uma função recursiva que calcula a soma dos n primeiros números naturais. ",
   "id": "317748ec071bb7c0"
  },
  {
   "metadata": {
    "ExecuteTime": {
     "end_time": "2024-08-15T00:49:59.291520Z",
     "start_time": "2024-08-15T00:49:59.277042Z"
    }
   },
   "cell_type": "code",
   "source": [
    "def soma_n_numeros(numero):\n",
    "    if numero == 0:\n",
    "        return 0\n",
    "    return numero + soma_n_numeros(numero - 1)\n",
    "\n",
    "print(soma_n_numeros(10))\n",
    "    "
   ],
   "id": "4d31fc8652d4e5b6",
   "outputs": [
    {
     "name": "stdout",
     "output_type": "stream",
     "text": [
      "55\n"
     ]
    }
   ],
   "execution_count": 35
  },
  {
   "metadata": {},
   "cell_type": "code",
   "outputs": [],
   "execution_count": null,
   "source": "",
   "id": "bbfad1fc3ed6bdf3"
  }
 ],
 "metadata": {
  "kernelspec": {
   "display_name": "Python 3",
   "language": "python",
   "name": "python3"
  },
  "language_info": {
   "codemirror_mode": {
    "name": "ipython",
    "version": 2
   },
   "file_extension": ".py",
   "mimetype": "text/x-python",
   "name": "python",
   "nbconvert_exporter": "python",
   "pygments_lexer": "ipython2",
   "version": "2.7.6"
  }
 },
 "nbformat": 4,
 "nbformat_minor": 5
}
