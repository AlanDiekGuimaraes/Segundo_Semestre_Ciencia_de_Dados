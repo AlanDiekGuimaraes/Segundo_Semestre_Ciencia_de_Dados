{
 "cells": [
  {
   "cell_type": "markdown",
   "metadata": {},
   "source": [
    "# Criptografia\n",
    "## Cifra de César\n",
    "### Encriptar\n"
   ]
  },
  {
   "cell_type": "code",
   "execution_count": 4,
   "metadata": {},
   "outputs": [
    {
     "name": "stdout",
     "output_type": "stream",
     "text": [
      "Texto cifrado:  papc sxtz\n"
     ]
    }
   ],
   "source": [
    "def cifra_de_cesar(texto, deslocamento):\n",
    "    resultado = \"\"\n",
    "    \n",
    "    for char in texto:\n",
    "        if char.isalpha(): # Verifica se o caractere é uma letra.\n",
    "            base = ord('a') if char.islower else ord('A')\n",
    "        \n",
    "            resultado += chr((ord(char) - base + deslocamento) % 26 + base)\n",
    "        else: \n",
    "            resultado += char\n",
    "    return resultado\n",
    "\n",
    "texto = input(\"Digite o texto a ser cifrado: \")\n",
    "deslocamento = int(input(\"Digite o deslocamento: \"))\n",
    "\n",
    "texto_cifrado = cifra_de_cesar(texto, deslocamento)\n",
    "\n",
    "print(\"Texto cifrado: \", texto_cifrado)"
   ]
  },
  {
   "cell_type": "markdown",
   "metadata": {},
   "source": [
    "## Cifra de Vigenere\n",
    "### Encriptar"
   ]
  },
  {
   "cell_type": "code",
   "execution_count": 7,
   "metadata": {},
   "outputs": [
    {
     "name": "stdout",
     "output_type": "stream",
     "text": [
      "Texto cifrado: qozezsnxg\n"
     ]
    }
   ],
   "source": [
    "def cifra_de_vigenere(texto, chave):\n",
    "    resultado = \"\"\n",
    "    \n",
    "    chave_expandida = (chave * len(texto))[:len(texto)] # Ajustando o tamanho da chave\n",
    "    \n",
    "    for i, char in enumerate(texto):\n",
    "        if char.isalpha():\n",
    "            base = ord('a') if char.islower() else ord('A')\n",
    "            deslocamento = ord(chave_expandida[i]) - base\n",
    "            nova_letra = chr((ord(char) - base + deslocamento) % 26 + base)\n",
    "            resultado += nova_letra\n",
    "            \n",
    "        else:\n",
    "            resultado += char\n",
    "    return resultado\n",
    "\n",
    "texto = input(\"Digite o texto a ser cifrado: \")\n",
    "chave = input(\"Digite a chave: \")\n",
    "texto_cifrado = cifra_de_vigenere(texto, chave)\n",
    "print(f\"Texto cifrado: {texto_cifrado}\")"
   ]
  },
  {
   "cell_type": "markdown",
   "metadata": {},
   "source": [
    "## Cifra de Feistel\n",
    "### Encriptar"
   ]
  },
  {
   "cell_type": "code",
   "execution_count": 11,
   "metadata": {},
   "outputs": [
    {
     "name": "stdout",
     "output_type": "stream",
     "text": [
      "Texto cifrado: 10011101\n"
     ]
    }
   ],
   "source": [
    "def cifra_de_feistel(texto, chave, rodadas=2):\n",
    "    for i in range(rodadas):\n",
    "        # Divide o texto em duas partes\n",
    "        esquerda = texto[:len(texto) // 2]\n",
    "        direita = texto[len(texto) // 2:]\n",
    "        \n",
    "        # Aplica a \"função\" usando XOR com a chave\n",
    "        nova_direita = ''.join(chr(ord(d) ^ ord(k)) for d, k in zip(direita, chave))\n",
    "        \n",
    "        # Combina as partes invertendo-as\n",
    "        texto = direita + ''.join(chr(ord(e) ^ ord(n)) for e, n in zip(esquerda, nova_direita))\n",
    "    \n",
    "    return texto\n",
    "\n",
    "# Exemplo de uso\n",
    "texto = input(\"Digite o texto: \")\n",
    "chave = input(\"Digite a chave: \")\n",
    "\n",
    "texto_cifrado = cifra_de_feistel(texto, chave)\n",
    "print(f\"Texto cifrado: {texto_cifrado}\")\n"
   ]
  }
 ],
 "metadata": {
  "kernelspec": {
   "display_name": "Python 3",
   "language": "python",
   "name": "python3"
  },
  "language_info": {
   "codemirror_mode": {
    "name": "ipython",
    "version": 3
   },
   "file_extension": ".py",
   "mimetype": "text/x-python",
   "name": "python",
   "nbconvert_exporter": "python",
   "pygments_lexer": "ipython3",
   "version": "3.12.1"
  }
 },
 "nbformat": 4,
 "nbformat_minor": 2
}
