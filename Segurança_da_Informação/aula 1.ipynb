{
 "cells": [
  {
   "cell_type": "markdown",
   "metadata": {},
   "source": [
    "## Segurança da informação \n",
    "\n",
    "### Criptografia AES\n",
    "\n",
    "#### Criptografando a chave"
   ]
  },
  {
   "cell_type": "code",
   "execution_count": null,
   "metadata": {},
   "outputs": [],
   "source": [
    "# pip install pycryptodome\n",
    "from Crypto.Cipher import AES\n",
    "from Crypto.Random import get_random_bytes\n",
    "from Crypto.Util.Padding import pad, unpad"
   ]
  },
  {
   "cell_type": "code",
   "execution_count": 4,
   "metadata": {},
   "outputs": [],
   "source": [
    "\n",
    "\n",
    "# Mensagem que sera criptografada\n",
    "mensagem = \"Brenda minha vidinha\"\n",
    "\n",
    "# Chave de 16 bytes\n",
    "chave = get_random_bytes(16)\n",
    " \n",
    "# Criptografar a mensagem\n",
    "def criptografar(mensagem, chave):\n",
    "    # Gerar um vetor aleatório\n",
    "    iv = get_random_bytes(16)\n",
    "    \n",
    "    # Cria o objeto de criptografia AES\n",
    "    cifra = AES.new(chave, AES.MODE_CBC, iv)\n",
    "    \n",
    "    # Garantir que a mensagem tem o tamanho correto\n",
    "    mensagem_preenchida = pad(mensagem.encode(), AES.block_size)\n",
    "    \n",
    "    # Criptografar a mensagem\n",
    "    mensagem_criptografada = cifra.encrypt(mensagem_preenchida)\n",
    "    \n",
    "    # Retornar o IV e a mensagem criptografada \n",
    "    return iv, mensagem_criptografada\n",
    "\n"
   ]
  },
  {
   "cell_type": "code",
   "execution_count": 5,
   "metadata": {},
   "outputs": [
    {
     "name": "stdout",
     "output_type": "stream",
     "text": [
      "Mensagem original:  Brenda minha vidinha\n",
      "Mensagem Criptografada:  b'_\\xf2\\xa4\\xe3\\x88\\x12\\x05\\xe7\\xe2\\xcb\\xee\\x99\\x04\\xe5T\\xd8xx\\xdf\\xd7(\\x1f03\\xa0\\x87\\xc27\\x01\\xd1%\"'\n"
     ]
    }
   ],
   "source": [
    "#Exemplo de uso\n",
    "print('Mensagem original: ', mensagem)\n",
    "\n",
    "# Mensagem Criptografada\n",
    "iv, mensagem_criptografada = criptografar(mensagem, chave)\n",
    "print('Mensagem Criptografada: ', mensagem_criptografada)"
   ]
  },
  {
   "cell_type": "markdown",
   "metadata": {},
   "source": [
    "#### Descriptografando a chave"
   ]
  },
  {
   "cell_type": "code",
   "execution_count": 11,
   "metadata": {},
   "outputs": [],
   "source": [
    "# Descriptografar a mensagem\n",
    "def descriptografar(iv, mensagem_criptografada, chave):\n",
    "    # Criar objeto de descriptografia\n",
    "    cifra = AES.new(chave, AES.MODE_CBC, iv)\n",
    "    \n",
    "    # Descriptografar a mensagem\n",
    "    mensagem_descriptografada = unpad(cifra.decrypt(mensagem_criptografada), AES.block_size)\n",
    "    \n",
    "    return mensagem_descriptografada.decode()"
   ]
  },
  {
   "cell_type": "code",
   "execution_count": 13,
   "metadata": {},
   "outputs": [
    {
     "name": "stdout",
     "output_type": "stream",
     "text": [
      "Mensagem Descriptografada:  Brenda minha vidinha\n"
     ]
    }
   ],
   "source": [
    "# Descriptografar a mensagem \n",
    "mensagem_descripdata = descriptografar(iv, mensagem_criptografada, chave)\n",
    "\n",
    "print('Mensagem Descriptografada: ', mensagem_descripdata)"
   ]
  },
  {
   "cell_type": "markdown",
   "metadata": {},
   "source": [
    "### RSA (Rivet-Shamir_Adleman)\n",
    "\n",
    "#### Criptografando a chave"
   ]
  },
  {
   "cell_type": "code",
   "execution_count": null,
   "metadata": {},
   "outputs": [],
   "source": [
    "# pip install cryptography\n",
    "from cryptography.hazmat.backends import default_backend\n",
    "from cryptography.hazmat.primitives.asymmetric import rsa, padding\n",
    "from cryptography.hazmat.primitives import serialization\n",
    "from cryptography.hazmat.primitives import hashes"
   ]
  },
  {
   "cell_type": "code",
   "execution_count": 6,
   "metadata": {},
   "outputs": [
    {
     "name": "stdout",
     "output_type": "stream",
     "text": [
      "Mensagem Original:  b'Minha princesinha da minha vida'\n",
      "Mensagem Criptografada:  b'j{$\\x9ce\\x8e\\x15m4\\xbb\\x98\\xd1\\xd7\\xd0\\x99\\xeb\\xe3E\\xaf\\xe4\\xf1,\\xb2t6A\\xba\\xbdif TC6\\xcd\\x1c\\xa8!\\x9d6\\xf0#\\xc1\\xdc\\x80b\\x9c\\xca*\\xbb\\xd8\\x85\\xde\\x98N\\x05\\xe2\\xdc\\x16\\xcbp\\xcb\\xe5\\xd5c\\'\\xf5^\\xcd\\xf5\\xfa\\xc6\\x1f7\\x8a\\x1a\\xcd\\xce\\t:<B13\\xb5\\x89-\\xa8\\x19\\x81\\x99\\xdf_\"\\xb5\\x9eB\\x87L\\xabz\\x0e\\xf5x\\x9ejR\\xff\\xa9T\\xc7ssF\\x9cv\\x1bZf\\x8a\\xc6\\\\\\xd8!\\x17\\\\\\xf1i\\x0b2\\xe22\\xb2\\x05{\\xec\\x05\\x84\\xf8\\x1cp\\xa4\\x9f\\x91\\xa0\\xf9\\xf8\\xec\\xf3\\xa2\\xe9b\\x18\\xd4\\xa0\\x03\\xb2\\x83\\xeaZQe\\x99]\\xe9\\x00ni\\x1a\\x9d,N\\x8a\\xb17o\\xd1\"l\\xeb\\xd8\\xb2\\xe4\\xf6\\x1fF\\'Y1\\xe23\\xbeX\\x04\\xcc\\x81\\xab\\x04q\\x03\\x93\\xdf\\x7f\\x16\\x08\\xaa\\x95\\xfa*\\x92\\x9d\\xe0\\xe2\\xc3.\\xc6\\xbb\\x05\\x88:\\xae\\x8c1\\xee\\x1fr\\x96\\x93\\xcaW\\x80\\xd9=\\x81x\\xf1\\x8e\\x0bt\\x14j\\xca\\xf32\\x9f\\xc3\\xd8y\\xd0s\\xe2\\x9b\\xb1\\x01\\x83\\xa5'\n"
     ]
    }
   ],
   "source": [
    "\n",
    "# Gerar um par de chaves RSA\n",
    "private_key = rsa.generate_private_key(\n",
    "    public_exponent=65537,\n",
    "    key_size=2048,\n",
    "    backend=default_backend()\n",
    ")\n",
    "\n",
    "# Chave Pública\n",
    "public_key = private_key.public_key()\n",
    "\n",
    "# Mensagem que será cifrada\n",
    "mensagem = b'Minha princesinha da minha vida'\n",
    "\n",
    "# Cifrar a mensagem com a função hash SHA256\n",
    "ciphertext = public_key.encrypt(\n",
    "    mensagem,\n",
    "    padding.OAEP(\n",
    "        mgf = padding.MGF1(algorithm=hashes.SHA256()),\n",
    "        algorithm = hashes.SHA256(),\n",
    "        label=None\n",
    "    )\n",
    ")\n",
    "\n",
    "print('Mensagem Original: ', mensagem)\n",
    "print('Mensagem Criptografada: ', ciphertext)\n"
   ]
  },
  {
   "cell_type": "markdown",
   "metadata": {},
   "source": [
    "#### Descriptografando a chave"
   ]
  },
  {
   "cell_type": "code",
   "execution_count": 7,
   "metadata": {},
   "outputs": [
    {
     "name": "stdout",
     "output_type": "stream",
     "text": [
      "Mensagem Descriptografada:  b'Minha princesinha da minha vida'\n"
     ]
    }
   ],
   "source": [
    "# Descriptografar a menagem \n",
    "decrypted_message = private_key.decrypt(\n",
    "    ciphertext,\n",
    "    padding.OAEP(\n",
    "        mgf = padding.MGF1(algorithm=hashes.SHA256()),\n",
    "        algorithm = hashes.SHA256(),\n",
    "        label = None\n",
    "    )\n",
    ")\n",
    "\n",
    "print('Mensagem Descriptografada: ', decrypted_message)"
   ]
  },
  {
   "cell_type": "markdown",
   "metadata": {},
   "source": [
    "### Blockchain"
   ]
  }
 ],
 "metadata": {
  "kernelspec": {
   "display_name": "Python 3",
   "language": "python",
   "name": "python3"
  },
  "language_info": {
   "codemirror_mode": {
    "name": "ipython",
    "version": 3
   },
   "file_extension": ".py",
   "mimetype": "text/x-python",
   "name": "python",
   "nbconvert_exporter": "python",
   "pygments_lexer": "ipython3",
   "version": "3.12.1"
  }
 },
 "nbformat": 4,
 "nbformat_minor": 2
}
